{
 "cells": [
  {
   "cell_type": "markdown",
   "id": "eb9e09e2",
   "metadata": {
    "editable": false,
    "papermill": {
     "duration": 0.014505,
     "end_time": "2024-03-11T18:41:01.849933",
     "exception": false,
     "start_time": "2024-03-11T18:41:01.835428",
     "status": "completed"
    },
    "tags": []
   },
   "source": [
    "## Practical Homework 1 - Linear Regression"
   ]
  },
  {
   "cell_type": "markdown",
   "id": "085b987f",
   "metadata": {
    "editable": false,
    "papermill": {
     "duration": 0.014596,
     "end_time": "2024-03-11T18:41:01.878570",
     "exception": false,
     "start_time": "2024-03-11T18:41:01.863974",
     "status": "completed"
    },
    "tags": []
   },
   "source": [
    "**Please write your name and student number in the following cell.**"
   ]
  },
  {
   "cell_type": "code",
   "execution_count": 1,
   "id": "68de3bdd",
   "metadata": {
    "editable": false,
    "execution": {
     "iopub.execute_input": "2024-03-11T18:41:01.908093Z",
     "iopub.status.busy": "2024-03-11T18:41:01.907779Z",
     "iopub.status.idle": "2024-03-11T18:41:01.911343Z",
     "shell.execute_reply": "2024-03-11T18:41:01.910813Z"
    },
    "papermill": {
     "duration": 0.020357,
     "end_time": "2024-03-11T18:41:01.912779",
     "exception": false,
     "start_time": "2024-03-11T18:41:01.892422",
     "status": "completed"
    },
    "tags": []
   },
   "outputs": [],
   "source": [
    "# Student_Name = \"Ali GhaemDoust\"\n",
    "# Student_Number = \"98108695\""
   ]
  },
  {
   "cell_type": "markdown",
   "id": "83e742d6",
   "metadata": {
    "editable": false,
    "papermill": {
     "duration": 0.013771,
     "end_time": "2024-03-11T18:41:01.940787",
     "exception": false,
     "start_time": "2024-03-11T18:41:01.927016",
     "status": "completed"
    },
    "tags": []
   },
   "source": [
    "## Phase 0: Intro"
   ]
  },
  {
   "cell_type": "markdown",
   "id": "426115ce",
   "metadata": {
    "editable": false,
    "papermill": {
     "duration": 0.013787,
     "end_time": "2024-03-11T18:41:01.968573",
     "exception": false,
     "start_time": "2024-03-11T18:41:01.954786",
     "status": "completed"
    },
    "tags": []
   },
   "source": [
    "For this assignment, you'll be given a dataset containing cars for sale. To study the dataset in more detail, refer to [this](https://www.kaggle.com/datasets/arianghasemi/divar-cars/data) link."
   ]
  },
  {
   "cell_type": "code",
   "execution_count": 2,
   "id": "5ba62d2e",
   "metadata": {
    "editable": false,
    "execution": {
     "iopub.execute_input": "2024-03-11T18:41:01.998109Z",
     "iopub.status.busy": "2024-03-11T18:41:01.997812Z",
     "iopub.status.idle": "2024-03-11T18:41:03.485531Z",
     "shell.execute_reply": "2024-03-11T18:41:03.484770Z"
    },
    "papermill": {
     "duration": 1.505038,
     "end_time": "2024-03-11T18:41:03.487618",
     "exception": false,
     "start_time": "2024-03-11T18:41:01.982580",
     "status": "completed"
    },
    "tags": []
   },
   "outputs": [
    {
     "name": "stdout",
     "output_type": "stream",
     "text": [
      "--2024-03-11 18:41:02--  https://www.dropbox.com/scl/fi/cwd3e0wo7j41wungb4zat/cars.csv?rlkey=z83jkj9ex2no06z4htf6ce1w5&dl=1\r\n",
      "Resolving www.dropbox.com (www.dropbox.com)... 162.125.1.18, 2620:100:6016:18::a27d:112\r\n",
      "Connecting to www.dropbox.com (www.dropbox.com)|162.125.1.18|:443... connected.\r\n",
      "HTTP request sent, awaiting response... 302 Found\r\n",
      "Location: https://uc097868bd16358caaa7a94de44e.dl.dropboxusercontent.com/cd/0/inline/CO4d9R58Dswc_XYNz6upG1FHpe-aOjpc4ceZs6cdWbmIwjGFKEKjC_vlTulVC5PpAHwc79FMYqIZ9T8NnxvJjWtrt-_y6ZW_zEjCcU7SlNtQKOcRrkoG-HnNqYhQbQNumBfoYv61a07EmajlDMyxHnQU/file?dl=1# [following]\r\n",
      "--2024-03-11 18:41:02--  https://uc097868bd16358caaa7a94de44e.dl.dropboxusercontent.com/cd/0/inline/CO4d9R58Dswc_XYNz6upG1FHpe-aOjpc4ceZs6cdWbmIwjGFKEKjC_vlTulVC5PpAHwc79FMYqIZ9T8NnxvJjWtrt-_y6ZW_zEjCcU7SlNtQKOcRrkoG-HnNqYhQbQNumBfoYv61a07EmajlDMyxHnQU/file?dl=1\r\n",
      "Resolving uc097868bd16358caaa7a94de44e.dl.dropboxusercontent.com (uc097868bd16358caaa7a94de44e.dl.dropboxusercontent.com)... 162.125.1.15, 2620:100:6016:15::a27d:10f\r\n",
      "Connecting to uc097868bd16358caaa7a94de44e.dl.dropboxusercontent.com (uc097868bd16358caaa7a94de44e.dl.dropboxusercontent.com)|162.125.1.15|:443... connected.\r\n",
      "HTTP request sent, awaiting response... 200 OK\r\n",
      "Length: 11114732 (11M) [application/binary]\r\n",
      "Saving to: '/kaggle/working/dataset.csv'\r\n",
      "\r\n",
      "/kaggle/working/dat 100%[===================>]  10.60M  --.-KB/s    in 0.08s   \r\n",
      "\r\n",
      "2024-03-11 18:41:03 (131 MB/s) - '/kaggle/working/dataset.csv' saved [11114732/11114732]\r\n",
      "\r\n"
     ]
    }
   ],
   "source": [
    "!wget -O /kaggle/working/dataset.csv \"https://www.dropbox.com/scl/fi/cwd3e0wo7j41wungb4zat/cars.csv?rlkey=z83jkj9ex2no06z4htf6ce1w5&dl=1\""
   ]
  },
  {
   "cell_type": "code",
   "execution_count": 3,
   "id": "8e7d8d9c",
   "metadata": {
    "editable": false,
    "execution": {
     "iopub.execute_input": "2024-03-11T18:41:03.519374Z",
     "iopub.status.busy": "2024-03-11T18:41:03.519074Z",
     "iopub.status.idle": "2024-03-11T18:41:05.332579Z",
     "shell.execute_reply": "2024-03-11T18:41:05.331880Z"
    },
    "papermill": {
     "duration": 1.831842,
     "end_time": "2024-03-11T18:41:05.334563",
     "exception": false,
     "start_time": "2024-03-11T18:41:03.502721",
     "status": "completed"
    },
    "tags": []
   },
   "outputs": [],
   "source": [
    "# Warning! You are not permitted to import any other libraries\n",
    "\n",
    "import os\n",
    "import pandas\n",
    "import sklearn\n",
    "import numpy as np\n",
    "import pandas as pd\n",
    "\n",
    "from tqdm import tqdm\n",
    "\n",
    "import seaborn as sns\n",
    "from joblib import dump, load\n",
    "import seaborn as sns\n",
    "from matplotlib import pyplot as plt\n",
    "\n",
    "import warnings\n",
    "from warnings import simplefilter\n",
    "simplefilter(action=\"ignore\", category=pd.errors.PerformanceWarning)\n",
    "warnings.filterwarnings(\"ignore\", \"is_categorical_dtype\")\n",
    "warnings.filterwarnings(\"ignore\", \"use_inf_as_na\")"
   ]
  },
  {
   "cell_type": "markdown",
   "id": "faf4a9a5",
   "metadata": {
    "editable": false,
    "papermill": {
     "duration": 0.01419,
     "end_time": "2024-03-11T18:41:05.363547",
     "exception": false,
     "start_time": "2024-03-11T18:41:05.349357",
     "status": "completed"
    },
    "tags": []
   },
   "source": [
    "## Phase 1: Load Data (P1: 2 points)"
   ]
  },
  {
   "cell_type": "markdown",
   "id": "3c42a25e",
   "metadata": {
    "editable": false,
    "papermill": {
     "duration": 0.014473,
     "end_time": "2024-03-11T18:41:05.392345",
     "exception": false,
     "start_time": "2024-03-11T18:41:05.377872",
     "status": "completed"
    },
    "tags": []
   },
   "source": [
    "Load the dataset (as a dataframe) using pandas and display the top 5 rows of the dataframe. **(P1-1: 1 points)**"
   ]
  },
  {
   "cell_type": "code",
   "execution_count": null,
   "id": "bb9a5e60",
   "metadata": {
    "editable": false,
    "papermill": {
     "duration": 0.013899,
     "end_time": "2024-03-11T18:41:05.420410",
     "exception": false,
     "start_time": "2024-03-11T18:41:05.406511",
     "status": "completed"
    },
    "tags": []
   },
   "outputs": [],
   "source": []
  },
  {
   "cell_type": "code",
   "execution_count": 4,
   "id": "369f860a",
   "metadata": {
    "editable": false,
    "execution": {
     "iopub.execute_input": "2024-03-11T18:41:05.450333Z",
     "iopub.status.busy": "2024-03-11T18:41:05.449927Z",
     "iopub.status.idle": "2024-03-11T18:41:05.628580Z",
     "shell.execute_reply": "2024-03-11T18:41:05.627765Z"
    },
    "papermill": {
     "duration": 0.195697,
     "end_time": "2024-03-11T18:41:05.630275",
     "exception": false,
     "start_time": "2024-03-11T18:41:05.434578",
     "status": "completed"
    },
    "tags": []
   },
   "outputs": [
    {
     "data": {
      "text/html": [
       "<div>\n",
       "<style scoped>\n",
       "    .dataframe tbody tr th:only-of-type {\n",
       "        vertical-align: middle;\n",
       "    }\n",
       "\n",
       "    .dataframe tbody tr th {\n",
       "        vertical-align: top;\n",
       "    }\n",
       "\n",
       "    .dataframe thead th {\n",
       "        text-align: right;\n",
       "    }\n",
       "</style>\n",
       "<table border=\"1\" class=\"dataframe\">\n",
       "  <thead>\n",
       "    <tr style=\"text-align: right;\">\n",
       "      <th></th>\n",
       "      <th>City</th>\n",
       "      <th>Model_Year</th>\n",
       "      <th>Color</th>\n",
       "      <th>Mileage</th>\n",
       "      <th>Brand</th>\n",
       "      <th>Body_Condition</th>\n",
       "      <th>Price</th>\n",
       "      <th>Engine_Condition</th>\n",
       "      <th>Chassis_Condition</th>\n",
       "      <th>Third_party_insurance</th>\n",
       "      <th>Gearbox</th>\n",
       "      <th>Selling_Method</th>\n",
       "      <th>Time</th>\n",
       "      <th>Location</th>\n",
       "    </tr>\n",
       "  </thead>\n",
       "  <tbody>\n",
       "    <tr>\n",
       "      <th>0</th>\n",
       "      <td>Tehran</td>\n",
       "      <td>۱۳۷۶</td>\n",
       "      <td>نقره ای</td>\n",
       "      <td>۵۳۲</td>\n",
       "      <td>نیسان، پاترول 4 در، 6 سیلندر</td>\n",
       "      <td>تمام رنگ</td>\n",
       "      <td>235000000.0</td>\n",
       "      <td>سالم</td>\n",
       "      <td>سالم و پلمپ</td>\n",
       "      <td>۶ ماه</td>\n",
       "      <td>دنده ای</td>\n",
       "      <td>نقدی</td>\n",
       "      <td>2022-03-26</td>\n",
       "      <td>آجودانیه</td>\n",
       "    </tr>\n",
       "    <tr>\n",
       "      <th>1</th>\n",
       "      <td>Tehran</td>\n",
       "      <td>۱۳۹۲</td>\n",
       "      <td>سفید</td>\n",
       "      <td>۱۵۰٬۰۰۰</td>\n",
       "      <td>CNG ،پیکان، وانت</td>\n",
       "      <td>خط و خش جزیی</td>\n",
       "      <td>110000000.0</td>\n",
       "      <td>NaN</td>\n",
       "      <td>NaN</td>\n",
       "      <td>NaN</td>\n",
       "      <td>NaN</td>\n",
       "      <td>NaN</td>\n",
       "      <td>2022-03-12</td>\n",
       "      <td>بلوار کشاورز</td>\n",
       "    </tr>\n",
       "    <tr>\n",
       "      <th>2</th>\n",
       "      <td>Tehran</td>\n",
       "      <td>۱۳۹۹</td>\n",
       "      <td>سفید</td>\n",
       "      <td>۰</td>\n",
       "      <td>SE ،131 ،پراید</td>\n",
       "      <td>سالم و بی خط و خش</td>\n",
       "      <td>NaN</td>\n",
       "      <td>NaN</td>\n",
       "      <td>سالم و پلمپ</td>\n",
       "      <td>۱۲ ماه</td>\n",
       "      <td>NaN</td>\n",
       "      <td>نقدی</td>\n",
       "      <td>2022-03-26</td>\n",
       "      <td>دولت آباد</td>\n",
       "    </tr>\n",
       "    <tr>\n",
       "      <th>3</th>\n",
       "      <td>Tehran</td>\n",
       "      <td>۱۳۹۶</td>\n",
       "      <td>سفید</td>\n",
       "      <td>۸۰٬۰۰۰</td>\n",
       "      <td>SE ،132 ،پراید</td>\n",
       "      <td>سالم و بی خط و خش</td>\n",
       "      <td>125500000.0</td>\n",
       "      <td>سالم</td>\n",
       "      <td>سالم و پلمپ</td>\n",
       "      <td>۶ ماه</td>\n",
       "      <td>دنده ای</td>\n",
       "      <td>نقدی</td>\n",
       "      <td>2022-03-26</td>\n",
       "      <td>پیروزی</td>\n",
       "    </tr>\n",
       "    <tr>\n",
       "      <th>4</th>\n",
       "      <td>Tehran</td>\n",
       "      <td>۱۳۹۳</td>\n",
       "      <td>نقره ای</td>\n",
       "      <td>۸۰٬۰۰۰</td>\n",
       "      <td>پژو، GLX ،405 بنزینی</td>\n",
       "      <td>سالم و بی خط و خش</td>\n",
       "      <td>187000000.0</td>\n",
       "      <td>سالم</td>\n",
       "      <td>سالم و پلمپ</td>\n",
       "      <td>۹ ماه</td>\n",
       "      <td>دنده ای</td>\n",
       "      <td>نقدی</td>\n",
       "      <td>2022-03-26</td>\n",
       "      <td>پیروزی</td>\n",
       "    </tr>\n",
       "  </tbody>\n",
       "</table>\n",
       "</div>"
      ],
      "text/plain": [
       "     City Model_Year    Color  Mileage                         Brand  \\\n",
       "0  Tehran       ۱۳۷۶  نقره ای      ۵۳۲  نیسان، پاترول 4 در، 6 سیلندر   \n",
       "1  Tehran       ۱۳۹۲     سفید  ۱۵۰٬۰۰۰              CNG ،پیکان، وانت   \n",
       "2  Tehran       ۱۳۹۹     سفید        ۰                SE ،131 ،پراید   \n",
       "3  Tehran       ۱۳۹۶     سفید   ۸۰٬۰۰۰                SE ،132 ،پراید   \n",
       "4  Tehran       ۱۳۹۳  نقره ای   ۸۰٬۰۰۰          پژو، GLX ،405 بنزینی   \n",
       "\n",
       "      Body_Condition        Price Engine_Condition Chassis_Condition  \\\n",
       "0           تمام رنگ  235000000.0             سالم       سالم و پلمپ   \n",
       "1       خط و خش جزیی  110000000.0              NaN               NaN   \n",
       "2  سالم و بی خط و خش          NaN              NaN       سالم و پلمپ   \n",
       "3  سالم و بی خط و خش  125500000.0             سالم       سالم و پلمپ   \n",
       "4  سالم و بی خط و خش  187000000.0             سالم       سالم و پلمپ   \n",
       "\n",
       "  Third_party_insurance  Gearbox Selling_Method        Time       Location  \n",
       "0                 ۶ ماه  دنده ای           نقدی  2022-03-26      آجودانیه   \n",
       "1                   NaN      NaN            NaN  2022-03-12  بلوار کشاورز   \n",
       "2                ۱۲ ماه      NaN           نقدی  2022-03-26     دولت آباد   \n",
       "3                 ۶ ماه  دنده ای           نقدی  2022-03-26        پیروزی   \n",
       "4                 ۹ ماه  دنده ای           نقدی  2022-03-26        پیروزی   "
      ]
     },
     "execution_count": 4,
     "metadata": {},
     "output_type": "execute_result"
    }
   ],
   "source": [
    "file_path = '/kaggle/working/dataset.csv'\n",
    "df = pd.read_csv(file_path)\n",
    "df.head()"
   ]
  },
  {
   "cell_type": "markdown",
   "id": "768499c2",
   "metadata": {
    "editable": false,
    "papermill": {
     "duration": 0.01455,
     "end_time": "2024-03-11T18:41:05.659952",
     "exception": false,
     "start_time": "2024-03-11T18:41:05.645402",
     "status": "completed"
    },
    "tags": []
   },
   "source": [
    "Drop any row containing null values. **(P1-2: 1 points)**"
   ]
  },
  {
   "cell_type": "code",
   "execution_count": 5,
   "id": "63c63c56",
   "metadata": {
    "editable": false,
    "execution": {
     "iopub.execute_input": "2024-03-11T18:41:05.690397Z",
     "iopub.status.busy": "2024-03-11T18:41:05.690118Z",
     "iopub.status.idle": "2024-03-11T18:41:05.728108Z",
     "shell.execute_reply": "2024-03-11T18:41:05.727423Z"
    },
    "papermill": {
     "duration": 0.055341,
     "end_time": "2024-03-11T18:41:05.729820",
     "exception": false,
     "start_time": "2024-03-11T18:41:05.674479",
     "status": "completed"
    },
    "tags": []
   },
   "outputs": [],
   "source": [
    "df = df.dropna(how='any',axis=0)"
   ]
  },
  {
   "cell_type": "markdown",
   "id": "1f2f0afb",
   "metadata": {
    "editable": false,
    "papermill": {
     "duration": 0.014589,
     "end_time": "2024-03-11T18:41:05.759371",
     "exception": false,
     "start_time": "2024-03-11T18:41:05.744782",
     "status": "completed"
    },
    "tags": []
   },
   "source": [
    "## Phase 2: Preprocess (P2: 18 points)"
   ]
  },
  {
   "cell_type": "markdown",
   "id": "130f4180",
   "metadata": {
    "editable": false,
    "papermill": {
     "duration": 0.014313,
     "end_time": "2024-03-11T18:41:05.788155",
     "exception": false,
     "start_time": "2024-03-11T18:41:05.773842",
     "status": "completed"
    },
    "tags": []
   },
   "source": [
    "Print names of the columns and the number of rows in the dataset. **(P2-1: 1 points)**"
   ]
  },
  {
   "cell_type": "code",
   "execution_count": 6,
   "id": "a9dc00e7",
   "metadata": {
    "editable": false,
    "execution": {
     "iopub.execute_input": "2024-03-11T18:41:05.818472Z",
     "iopub.status.busy": "2024-03-11T18:41:05.818200Z",
     "iopub.status.idle": "2024-03-11T18:41:05.822241Z",
     "shell.execute_reply": "2024-03-11T18:41:05.821375Z"
    },
    "papermill": {
     "duration": 0.021127,
     "end_time": "2024-03-11T18:41:05.823764",
     "exception": false,
     "start_time": "2024-03-11T18:41:05.802637",
     "status": "completed"
    },
    "tags": []
   },
   "outputs": [
    {
     "name": "stdout",
     "output_type": "stream",
     "text": [
      "['City', 'Model_Year', 'Color', 'Mileage', 'Brand', 'Body_Condition', 'Price', 'Engine_Condition', 'Chassis_Condition', 'Third_party_insurance', 'Gearbox', 'Selling_Method', 'Time', 'Location']\n",
      "32725\n"
     ]
    }
   ],
   "source": [
    "print(list(df.columns))\n",
    "print(len(df.index))"
   ]
  },
  {
   "cell_type": "markdown",
   "id": "1ad821c9",
   "metadata": {
    "editable": false,
    "papermill": {
     "duration": 0.014491,
     "end_time": "2024-03-11T18:41:05.852927",
     "exception": false,
     "start_time": "2024-03-11T18:41:05.838436",
     "status": "completed"
    },
    "tags": []
   },
   "source": [
    "Drop all rows where \"Selling_Method\" is not \"نقدی\", and then drop the columns \"Selling_Method\", \"Time\" and \"Location\". **(P2-2: 1 points)** "
   ]
  },
  {
   "cell_type": "code",
   "execution_count": 7,
   "id": "510c881d",
   "metadata": {
    "editable": false,
    "execution": {
     "iopub.execute_input": "2024-03-11T18:41:05.883593Z",
     "iopub.status.busy": "2024-03-11T18:41:05.883281Z",
     "iopub.status.idle": "2024-03-11T18:41:05.899977Z",
     "shell.execute_reply": "2024-03-11T18:41:05.899405Z"
    },
    "papermill": {
     "duration": 0.033915,
     "end_time": "2024-03-11T18:41:05.901547",
     "exception": false,
     "start_time": "2024-03-11T18:41:05.867632",
     "status": "completed"
    },
    "tags": []
   },
   "outputs": [],
   "source": [
    "df = df.query('Selling_Method != \"نقدی\"')\n",
    "colms = ['Selling_Method', 'Location']\n",
    "df.drop(colms, axis=1, inplace=True)"
   ]
  },
  {
   "cell_type": "markdown",
   "id": "37882309",
   "metadata": {
    "editable": false,
    "papermill": {
     "duration": 0.014454,
     "end_time": "2024-03-11T18:41:05.966783",
     "exception": false,
     "start_time": "2024-03-11T18:41:05.952329",
     "status": "completed"
    },
    "tags": []
   },
   "source": [
    "Retrieve the description of all columns in the dataset. **(P2-3: 1 points)**"
   ]
  },
  {
   "cell_type": "code",
   "execution_count": 8,
   "id": "fc524b08",
   "metadata": {
    "editable": false,
    "execution": {
     "iopub.execute_input": "2024-03-11T18:41:05.997354Z",
     "iopub.status.busy": "2024-03-11T18:41:05.997070Z",
     "iopub.status.idle": "2024-03-11T18:41:06.028804Z",
     "shell.execute_reply": "2024-03-11T18:41:06.028227Z"
    },
    "papermill": {
     "duration": 0.048935,
     "end_time": "2024-03-11T18:41:06.030342",
     "exception": false,
     "start_time": "2024-03-11T18:41:05.981407",
     "status": "completed"
    },
    "tags": []
   },
   "outputs": [
    {
     "data": {
      "text/html": [
       "<div>\n",
       "<style scoped>\n",
       "    .dataframe tbody tr th:only-of-type {\n",
       "        vertical-align: middle;\n",
       "    }\n",
       "\n",
       "    .dataframe tbody tr th {\n",
       "        vertical-align: top;\n",
       "    }\n",
       "\n",
       "    .dataframe thead th {\n",
       "        text-align: right;\n",
       "    }\n",
       "</style>\n",
       "<table border=\"1\" class=\"dataframe\">\n",
       "  <thead>\n",
       "    <tr style=\"text-align: right;\">\n",
       "      <th></th>\n",
       "      <th>City</th>\n",
       "      <th>Model_Year</th>\n",
       "      <th>Color</th>\n",
       "      <th>Mileage</th>\n",
       "      <th>Brand</th>\n",
       "      <th>Body_Condition</th>\n",
       "      <th>Price</th>\n",
       "      <th>Engine_Condition</th>\n",
       "      <th>Chassis_Condition</th>\n",
       "      <th>Third_party_insurance</th>\n",
       "      <th>Gearbox</th>\n",
       "      <th>Time</th>\n",
       "    </tr>\n",
       "  </thead>\n",
       "  <tbody>\n",
       "    <tr>\n",
       "      <th>count</th>\n",
       "      <td>845</td>\n",
       "      <td>845</td>\n",
       "      <td>845</td>\n",
       "      <td>845</td>\n",
       "      <td>845</td>\n",
       "      <td>845</td>\n",
       "      <td>8.450000e+02</td>\n",
       "      <td>845</td>\n",
       "      <td>845</td>\n",
       "      <td>845</td>\n",
       "      <td>845</td>\n",
       "      <td>845</td>\n",
       "    </tr>\n",
       "    <tr>\n",
       "      <th>unique</th>\n",
       "      <td>4</td>\n",
       "      <td>57</td>\n",
       "      <td>32</td>\n",
       "      <td>271</td>\n",
       "      <td>296</td>\n",
       "      <td>23</td>\n",
       "      <td>NaN</td>\n",
       "      <td>3</td>\n",
       "      <td>3</td>\n",
       "      <td>12</td>\n",
       "      <td>2</td>\n",
       "      <td>18</td>\n",
       "    </tr>\n",
       "    <tr>\n",
       "      <th>top</th>\n",
       "      <td>Tehran</td>\n",
       "      <td>۱۴۰۰</td>\n",
       "      <td>سفید</td>\n",
       "      <td>۰</td>\n",
       "      <td>SE ،131 ،پراید</td>\n",
       "      <td>سالم و بی خط و خش</td>\n",
       "      <td>NaN</td>\n",
       "      <td>سالم</td>\n",
       "      <td>سالم و پلمپ</td>\n",
       "      <td>۱۲ ماه</td>\n",
       "      <td>دنده ای</td>\n",
       "      <td>2022-03-12</td>\n",
       "    </tr>\n",
       "    <tr>\n",
       "      <th>freq</th>\n",
       "      <td>461</td>\n",
       "      <td>69</td>\n",
       "      <td>386</td>\n",
       "      <td>47</td>\n",
       "      <td>41</td>\n",
       "      <td>422</td>\n",
       "      <td>NaN</td>\n",
       "      <td>826</td>\n",
       "      <td>829</td>\n",
       "      <td>167</td>\n",
       "      <td>627</td>\n",
       "      <td>228</td>\n",
       "    </tr>\n",
       "    <tr>\n",
       "      <th>mean</th>\n",
       "      <td>NaN</td>\n",
       "      <td>NaN</td>\n",
       "      <td>NaN</td>\n",
       "      <td>NaN</td>\n",
       "      <td>NaN</td>\n",
       "      <td>NaN</td>\n",
       "      <td>3.353680e+08</td>\n",
       "      <td>NaN</td>\n",
       "      <td>NaN</td>\n",
       "      <td>NaN</td>\n",
       "      <td>NaN</td>\n",
       "      <td>NaN</td>\n",
       "    </tr>\n",
       "    <tr>\n",
       "      <th>std</th>\n",
       "      <td>NaN</td>\n",
       "      <td>NaN</td>\n",
       "      <td>NaN</td>\n",
       "      <td>NaN</td>\n",
       "      <td>NaN</td>\n",
       "      <td>NaN</td>\n",
       "      <td>5.115031e+08</td>\n",
       "      <td>NaN</td>\n",
       "      <td>NaN</td>\n",
       "      <td>NaN</td>\n",
       "      <td>NaN</td>\n",
       "      <td>NaN</td>\n",
       "    </tr>\n",
       "    <tr>\n",
       "      <th>min</th>\n",
       "      <td>NaN</td>\n",
       "      <td>NaN</td>\n",
       "      <td>NaN</td>\n",
       "      <td>NaN</td>\n",
       "      <td>NaN</td>\n",
       "      <td>NaN</td>\n",
       "      <td>1.850000e+07</td>\n",
       "      <td>NaN</td>\n",
       "      <td>NaN</td>\n",
       "      <td>NaN</td>\n",
       "      <td>NaN</td>\n",
       "      <td>NaN</td>\n",
       "    </tr>\n",
       "    <tr>\n",
       "      <th>25%</th>\n",
       "      <td>NaN</td>\n",
       "      <td>NaN</td>\n",
       "      <td>NaN</td>\n",
       "      <td>NaN</td>\n",
       "      <td>NaN</td>\n",
       "      <td>NaN</td>\n",
       "      <td>1.200000e+08</td>\n",
       "      <td>NaN</td>\n",
       "      <td>NaN</td>\n",
       "      <td>NaN</td>\n",
       "      <td>NaN</td>\n",
       "      <td>NaN</td>\n",
       "    </tr>\n",
       "    <tr>\n",
       "      <th>50%</th>\n",
       "      <td>NaN</td>\n",
       "      <td>NaN</td>\n",
       "      <td>NaN</td>\n",
       "      <td>NaN</td>\n",
       "      <td>NaN</td>\n",
       "      <td>NaN</td>\n",
       "      <td>1.900000e+08</td>\n",
       "      <td>NaN</td>\n",
       "      <td>NaN</td>\n",
       "      <td>NaN</td>\n",
       "      <td>NaN</td>\n",
       "      <td>NaN</td>\n",
       "    </tr>\n",
       "    <tr>\n",
       "      <th>75%</th>\n",
       "      <td>NaN</td>\n",
       "      <td>NaN</td>\n",
       "      <td>NaN</td>\n",
       "      <td>NaN</td>\n",
       "      <td>NaN</td>\n",
       "      <td>NaN</td>\n",
       "      <td>3.500000e+08</td>\n",
       "      <td>NaN</td>\n",
       "      <td>NaN</td>\n",
       "      <td>NaN</td>\n",
       "      <td>NaN</td>\n",
       "      <td>NaN</td>\n",
       "    </tr>\n",
       "    <tr>\n",
       "      <th>max</th>\n",
       "      <td>NaN</td>\n",
       "      <td>NaN</td>\n",
       "      <td>NaN</td>\n",
       "      <td>NaN</td>\n",
       "      <td>NaN</td>\n",
       "      <td>NaN</td>\n",
       "      <td>9.000000e+09</td>\n",
       "      <td>NaN</td>\n",
       "      <td>NaN</td>\n",
       "      <td>NaN</td>\n",
       "      <td>NaN</td>\n",
       "      <td>NaN</td>\n",
       "    </tr>\n",
       "  </tbody>\n",
       "</table>\n",
       "</div>"
      ],
      "text/plain": [
       "          City Model_Year Color Mileage           Brand     Body_Condition  \\\n",
       "count      845        845   845     845             845                845   \n",
       "unique       4         57    32     271             296                 23   \n",
       "top     Tehran       ۱۴۰۰  سفید       ۰  SE ،131 ،پراید  سالم و بی خط و خش   \n",
       "freq       461         69   386      47              41                422   \n",
       "mean       NaN        NaN   NaN     NaN             NaN                NaN   \n",
       "std        NaN        NaN   NaN     NaN             NaN                NaN   \n",
       "min        NaN        NaN   NaN     NaN             NaN                NaN   \n",
       "25%        NaN        NaN   NaN     NaN             NaN                NaN   \n",
       "50%        NaN        NaN   NaN     NaN             NaN                NaN   \n",
       "75%        NaN        NaN   NaN     NaN             NaN                NaN   \n",
       "max        NaN        NaN   NaN     NaN             NaN                NaN   \n",
       "\n",
       "               Price Engine_Condition Chassis_Condition Third_party_insurance  \\\n",
       "count   8.450000e+02              845               845                   845   \n",
       "unique           NaN                3                 3                    12   \n",
       "top              NaN             سالم       سالم و پلمپ                ۱۲ ماه   \n",
       "freq             NaN              826               829                   167   \n",
       "mean    3.353680e+08              NaN               NaN                   NaN   \n",
       "std     5.115031e+08              NaN               NaN                   NaN   \n",
       "min     1.850000e+07              NaN               NaN                   NaN   \n",
       "25%     1.200000e+08              NaN               NaN                   NaN   \n",
       "50%     1.900000e+08              NaN               NaN                   NaN   \n",
       "75%     3.500000e+08              NaN               NaN                   NaN   \n",
       "max     9.000000e+09              NaN               NaN                   NaN   \n",
       "\n",
       "        Gearbox        Time  \n",
       "count       845         845  \n",
       "unique        2          18  \n",
       "top     دنده ای  2022-03-12  \n",
       "freq        627         228  \n",
       "mean        NaN         NaN  \n",
       "std         NaN         NaN  \n",
       "min         NaN         NaN  \n",
       "25%         NaN         NaN  \n",
       "50%         NaN         NaN  \n",
       "75%         NaN         NaN  \n",
       "max         NaN         NaN  "
      ]
     },
     "execution_count": 8,
     "metadata": {},
     "output_type": "execute_result"
    }
   ],
   "source": [
    "df.describe(include = 'all')"
   ]
  },
  {
   "cell_type": "markdown",
   "id": "b48f4e1b",
   "metadata": {
    "editable": false,
    "papermill": {
     "duration": 0.014783,
     "end_time": "2024-03-11T18:41:06.060509",
     "exception": false,
     "start_time": "2024-03-11T18:41:06.045726",
     "status": "completed"
    },
    "tags": []
   },
   "source": [
    "**We need to perform some operations on certain columns to make the entire dataset suitable for a Linear Regression task.**\n",
    "\n",
    "Change the 'Model_Year' type to numerical. Convert all years written in the Gregorian format to the Solar format. Then, take 1365 as the start year and count the number of years passed since 1365. For example, the year 1399 must be substituted with 34, and the cars tagged with 'قبل از ۱۳۶۶' must be substituted with 0. **(P2-4: 3 points)**"
   ]
  },
  {
   "cell_type": "code",
   "execution_count": 9,
   "id": "ff1cb2e1",
   "metadata": {
    "editable": false,
    "execution": {
     "iopub.execute_input": "2024-03-11T18:41:06.091762Z",
     "iopub.status.busy": "2024-03-11T18:41:06.091425Z",
     "iopub.status.idle": "2024-03-11T18:41:06.097179Z",
     "shell.execute_reply": "2024-03-11T18:41:06.096507Z"
    },
    "papermill": {
     "duration": 0.023191,
     "end_time": "2024-03-11T18:41:06.098722",
     "exception": false,
     "start_time": "2024-03-11T18:41:06.075531",
     "status": "completed"
    },
    "tags": []
   },
   "outputs": [],
   "source": [
    "def change_to_solar(date):\n",
    "    try:\n",
    "        date = int(date)\n",
    "        if date > 1500:\n",
    "            date = date - 621\n",
    "        if date != 0:\n",
    "            date = date - 1365\n",
    "    except:\n",
    "        date = 0\n",
    "    return date\n",
    "    pass\n",
    "\n",
    "df['Model_Year'] = df['Model_Year'].apply(change_to_solar)"
   ]
  },
  {
   "cell_type": "markdown",
   "id": "e650898d",
   "metadata": {
    "editable": false,
    "papermill": {
     "duration": 0.015594,
     "end_time": "2024-03-11T18:41:06.129464",
     "exception": false,
     "start_time": "2024-03-11T18:41:06.113870",
     "status": "completed"
    },
    "tags": []
   },
   "source": [
    "Change the types of 'Mileage' and 'Third_party_insurance' to numerical. **(P2-5: 1 points)**"
   ]
  },
  {
   "cell_type": "code",
   "execution_count": 10,
   "id": "21825044",
   "metadata": {
    "editable": false,
    "execution": {
     "iopub.execute_input": "2024-03-11T18:41:06.160334Z",
     "iopub.status.busy": "2024-03-11T18:41:06.160051Z",
     "iopub.status.idle": "2024-03-11T18:41:06.167232Z",
     "shell.execute_reply": "2024-03-11T18:41:06.166533Z"
    },
    "papermill": {
     "duration": 0.024502,
     "end_time": "2024-03-11T18:41:06.168800",
     "exception": false,
     "start_time": "2024-03-11T18:41:06.144298",
     "status": "completed"
    },
    "tags": []
   },
   "outputs": [],
   "source": [
    "def convert_Mileage_to_numerical(data):\n",
    "    try:\n",
    "        p1, p2 = data.split('٬')\n",
    "        data = int(p1+p2)\n",
    "    except:\n",
    "        data = int(data)\n",
    "    return data\n",
    "def convert_TPI_to_numerical(data):\n",
    "    data = int(data.split()[0])\n",
    "    return data\n",
    "        \n",
    "df['Mileage'] = df['Mileage'].apply(convert_Mileage_to_numerical)\n",
    "df['Third_party_insurance'] = df['Third_party_insurance'].apply(convert_TPI_to_numerical)"
   ]
  },
  {
   "cell_type": "code",
   "execution_count": 11,
   "id": "1a52c51f",
   "metadata": {
    "editable": false,
    "execution": {
     "iopub.execute_input": "2024-03-11T18:41:06.199968Z",
     "iopub.status.busy": "2024-03-11T18:41:06.199727Z",
     "iopub.status.idle": "2024-03-11T18:41:06.205719Z",
     "shell.execute_reply": "2024-03-11T18:41:06.204928Z"
    },
    "papermill": {
     "duration": 0.023444,
     "end_time": "2024-03-11T18:41:06.207390",
     "exception": false,
     "start_time": "2024-03-11T18:41:06.183946",
     "status": "completed"
    },
    "tags": []
   },
   "outputs": [
    {
     "data": {
      "text/plain": [
       "51       135000\n",
       "80        23000\n",
       "140       87000\n",
       "321       80000\n",
       "373      226000\n",
       "          ...  \n",
       "55179    200000\n",
       "55197    250000\n",
       "55353         1\n",
       "56272     99999\n",
       "56346    200000\n",
       "Name: Mileage, Length: 845, dtype: int64"
      ]
     },
     "execution_count": 11,
     "metadata": {},
     "output_type": "execute_result"
    }
   ],
   "source": [
    "df.Mileage"
   ]
  },
  {
   "cell_type": "code",
   "execution_count": 12,
   "id": "3af26d09",
   "metadata": {
    "editable": false,
    "execution": {
     "iopub.execute_input": "2024-03-11T18:41:06.238738Z",
     "iopub.status.busy": "2024-03-11T18:41:06.238110Z",
     "iopub.status.idle": "2024-03-11T18:41:06.243923Z",
     "shell.execute_reply": "2024-03-11T18:41:06.243337Z"
    },
    "papermill": {
     "duration": 0.023022,
     "end_time": "2024-03-11T18:41:06.245459",
     "exception": false,
     "start_time": "2024-03-11T18:41:06.222437",
     "status": "completed"
    },
    "tags": []
   },
   "outputs": [
    {
     "data": {
      "text/plain": [
       "51        2\n",
       "80        8\n",
       "140       6\n",
       "321       6\n",
       "373      10\n",
       "         ..\n",
       "55179     8\n",
       "55197    12\n",
       "55353    12\n",
       "56272     3\n",
       "56346     6\n",
       "Name: Third_party_insurance, Length: 845, dtype: int64"
      ]
     },
     "execution_count": 12,
     "metadata": {},
     "output_type": "execute_result"
    }
   ],
   "source": [
    "df.Third_party_insurance"
   ]
  },
  {
   "cell_type": "markdown",
   "id": "5e932e53",
   "metadata": {
    "editable": false,
    "papermill": {
     "duration": 0.014846,
     "end_time": "2024-03-11T18:41:06.275480",
     "exception": false,
     "start_time": "2024-03-11T18:41:06.260634",
     "status": "completed"
    },
    "tags": []
   },
   "source": [
    "For 'Engine_Condition', map 'سالم' to 2, 'تعویض شده' to 1, and 'نیاز به تعمیر' to 0. **(P2-6: 2 points)**"
   ]
  },
  {
   "cell_type": "code",
   "execution_count": 13,
   "id": "10b71cec",
   "metadata": {
    "editable": false,
    "execution": {
     "iopub.execute_input": "2024-03-11T18:41:06.307151Z",
     "iopub.status.busy": "2024-03-11T18:41:06.306865Z",
     "iopub.status.idle": "2024-03-11T18:41:06.322305Z",
     "shell.execute_reply": "2024-03-11T18:41:06.321533Z"
    },
    "papermill": {
     "duration": 0.03313,
     "end_time": "2024-03-11T18:41:06.323922",
     "exception": false,
     "start_time": "2024-03-11T18:41:06.290792",
     "status": "completed"
    },
    "tags": []
   },
   "outputs": [
    {
     "data": {
      "text/html": [
       "<div>\n",
       "<style scoped>\n",
       "    .dataframe tbody tr th:only-of-type {\n",
       "        vertical-align: middle;\n",
       "    }\n",
       "\n",
       "    .dataframe tbody tr th {\n",
       "        vertical-align: top;\n",
       "    }\n",
       "\n",
       "    .dataframe thead th {\n",
       "        text-align: right;\n",
       "    }\n",
       "</style>\n",
       "<table border=\"1\" class=\"dataframe\">\n",
       "  <thead>\n",
       "    <tr style=\"text-align: right;\">\n",
       "      <th></th>\n",
       "      <th>City</th>\n",
       "      <th>Model_Year</th>\n",
       "      <th>Color</th>\n",
       "      <th>Mileage</th>\n",
       "      <th>Brand</th>\n",
       "      <th>Body_Condition</th>\n",
       "      <th>Price</th>\n",
       "      <th>Engine_Condition</th>\n",
       "      <th>Chassis_Condition</th>\n",
       "      <th>Third_party_insurance</th>\n",
       "      <th>Gearbox</th>\n",
       "      <th>Time</th>\n",
       "    </tr>\n",
       "  </thead>\n",
       "  <tbody>\n",
       "    <tr>\n",
       "      <th>51</th>\n",
       "      <td>Tehran</td>\n",
       "      <td>26</td>\n",
       "      <td>سفید</td>\n",
       "      <td>135000</td>\n",
       "      <td>رنو، تندر E2 ،90 بنزینی</td>\n",
       "      <td>سالم و بی خط و خش</td>\n",
       "      <td>2.400000e+08</td>\n",
       "      <td>2</td>\n",
       "      <td>سالم و پلمپ</td>\n",
       "      <td>2</td>\n",
       "      <td>دنده ای</td>\n",
       "      <td>2022-03-05</td>\n",
       "    </tr>\n",
       "    <tr>\n",
       "      <th>80</th>\n",
       "      <td>Tehran</td>\n",
       "      <td>34</td>\n",
       "      <td>سفید</td>\n",
       "      <td>23000</td>\n",
       "      <td>SE ،131 ،پراید</td>\n",
       "      <td>سالم و بی خط و خش</td>\n",
       "      <td>1.535000e+08</td>\n",
       "      <td>2</td>\n",
       "      <td>سالم و پلمپ</td>\n",
       "      <td>8</td>\n",
       "      <td>دنده ای</td>\n",
       "      <td>2022-03-19</td>\n",
       "    </tr>\n",
       "    <tr>\n",
       "      <th>140</th>\n",
       "      <td>Tehran</td>\n",
       "      <td>29</td>\n",
       "      <td>سفید</td>\n",
       "      <td>87000</td>\n",
       "      <td>ix 45، 2400cc هیوندای، سانتافه</td>\n",
       "      <td>رنگ شدگی در ۲ ناحیه</td>\n",
       "      <td>1.290000e+09</td>\n",
       "      <td>2</td>\n",
       "      <td>سالم و پلمپ</td>\n",
       "      <td>6</td>\n",
       "      <td>اتوماتیک</td>\n",
       "      <td>2022-03-26</td>\n",
       "    </tr>\n",
       "    <tr>\n",
       "      <th>321</th>\n",
       "      <td>Tehran</td>\n",
       "      <td>29</td>\n",
       "      <td>سفید</td>\n",
       "      <td>80000</td>\n",
       "      <td>تیبا، صندوق دار، SX دوگانه سوز</td>\n",
       "      <td>سالم و بی خط و خش</td>\n",
       "      <td>1.470000e+08</td>\n",
       "      <td>2</td>\n",
       "      <td>سالم و پلمپ</td>\n",
       "      <td>6</td>\n",
       "      <td>دنده ای</td>\n",
       "      <td>2022-03-12</td>\n",
       "    </tr>\n",
       "    <tr>\n",
       "      <th>373</th>\n",
       "      <td>Tehran</td>\n",
       "      <td>20</td>\n",
       "      <td>سفید</td>\n",
       "      <td>226000</td>\n",
       "      <td>هیوندای، آوانته، اتوماتیک</td>\n",
       "      <td>خط و خش جزیی</td>\n",
       "      <td>3.400000e+08</td>\n",
       "      <td>2</td>\n",
       "      <td>سالم و پلمپ</td>\n",
       "      <td>10</td>\n",
       "      <td>اتوماتیک</td>\n",
       "      <td>2022-03-19</td>\n",
       "    </tr>\n",
       "  </tbody>\n",
       "</table>\n",
       "</div>"
      ],
      "text/plain": [
       "       City  Model_Year Color  Mileage                           Brand  \\\n",
       "51   Tehran          26  سفید   135000         رنو، تندر E2 ،90 بنزینی   \n",
       "80   Tehran          34  سفید    23000                  SE ،131 ،پراید   \n",
       "140  Tehran          29  سفید    87000  ix 45، 2400cc هیوندای، سانتافه   \n",
       "321  Tehran          29  سفید    80000  تیبا، صندوق دار، SX دوگانه سوز   \n",
       "373  Tehran          20  سفید   226000       هیوندای، آوانته، اتوماتیک   \n",
       "\n",
       "          Body_Condition         Price Engine_Condition Chassis_Condition  \\\n",
       "51     سالم و بی خط و خش  2.400000e+08                2       سالم و پلمپ   \n",
       "80     سالم و بی خط و خش  1.535000e+08                2       سالم و پلمپ   \n",
       "140  رنگ شدگی در ۲ ناحیه  1.290000e+09                2       سالم و پلمپ   \n",
       "321    سالم و بی خط و خش  1.470000e+08                2       سالم و پلمپ   \n",
       "373         خط و خش جزیی  3.400000e+08                2       سالم و پلمپ   \n",
       "\n",
       "     Third_party_insurance   Gearbox        Time  \n",
       "51                       2   دنده ای  2022-03-05  \n",
       "80                       8   دنده ای  2022-03-19  \n",
       "140                      6  اتوماتیک  2022-03-26  \n",
       "321                      6   دنده ای  2022-03-12  \n",
       "373                     10  اتوماتیک  2022-03-19  "
      ]
     },
     "execution_count": 13,
     "metadata": {},
     "output_type": "execute_result"
    }
   ],
   "source": [
    "ENGINE_WORKING = \"سالم\"\n",
    "ENGINE_SUBSTITUTED = \"تعویض شده\"\n",
    "ENGINE_NEEDS_TO_BE_FIXED = \"نیاز به تعمیر\"\n",
    "engine_condition_map = {\n",
    "    ENGINE_WORKING: 2,\n",
    "    ENGINE_SUBSTITUTED: 1,\n",
    "    ENGINE_NEEDS_TO_BE_FIXED: 0\n",
    "}\n",
    "\n",
    "# FILL HERE\n",
    "#for i,d in enumerate(df['Engine_Condition']):\n",
    "#df.loc[df['Engine_Condition'].iloc[i]] = engine_condition_map[d]\n",
    "df.loc[df.Engine_Condition == ENGINE_WORKING, 'Engine_Condition'] = 2#engine_condition_map[ENGINE_WORKING]\n",
    "df.loc[df.Engine_Condition == ENGINE_SUBSTITUTED, 'Engine_Condition'] = 1#engine_condition_map[ENGINE_SUBSTITUTED]\n",
    "df.loc[df.Engine_Condition == ENGINE_NEEDS_TO_BE_FIXED, 'Engine_Condition'] = 0#engine_condition_map[ENGINE_NEEDS_TO_BE_FIXED]\n",
    "df.head()"
   ]
  },
  {
   "cell_type": "markdown",
   "id": "ff4526bc",
   "metadata": {
    "editable": false,
    "papermill": {
     "duration": 0.015475,
     "end_time": "2024-03-11T18:41:06.355204",
     "exception": false,
     "start_time": "2024-03-11T18:41:06.339729",
     "status": "completed"
    },
    "tags": []
   },
   "source": [
    "For 'Chassis_Condition', map 'سالم و پلمپ' to 2, 'ضربه خورده' to 1, and 'رنگ شده' to 0. **(P2-7: 1 points)**"
   ]
  },
  {
   "cell_type": "code",
   "execution_count": 14,
   "id": "ffb7f0dd",
   "metadata": {
    "editable": false,
    "execution": {
     "iopub.execute_input": "2024-03-11T18:41:06.388625Z",
     "iopub.status.busy": "2024-03-11T18:41:06.388006Z",
     "iopub.status.idle": "2024-03-11T18:41:06.402281Z",
     "shell.execute_reply": "2024-03-11T18:41:06.401736Z"
    },
    "papermill": {
     "duration": 0.032957,
     "end_time": "2024-03-11T18:41:06.403768",
     "exception": false,
     "start_time": "2024-03-11T18:41:06.370811",
     "status": "completed"
    },
    "tags": []
   },
   "outputs": [
    {
     "data": {
      "text/html": [
       "<div>\n",
       "<style scoped>\n",
       "    .dataframe tbody tr th:only-of-type {\n",
       "        vertical-align: middle;\n",
       "    }\n",
       "\n",
       "    .dataframe tbody tr th {\n",
       "        vertical-align: top;\n",
       "    }\n",
       "\n",
       "    .dataframe thead th {\n",
       "        text-align: right;\n",
       "    }\n",
       "</style>\n",
       "<table border=\"1\" class=\"dataframe\">\n",
       "  <thead>\n",
       "    <tr style=\"text-align: right;\">\n",
       "      <th></th>\n",
       "      <th>City</th>\n",
       "      <th>Model_Year</th>\n",
       "      <th>Color</th>\n",
       "      <th>Mileage</th>\n",
       "      <th>Brand</th>\n",
       "      <th>Body_Condition</th>\n",
       "      <th>Price</th>\n",
       "      <th>Engine_Condition</th>\n",
       "      <th>Chassis_Condition</th>\n",
       "      <th>Third_party_insurance</th>\n",
       "      <th>Gearbox</th>\n",
       "      <th>Time</th>\n",
       "    </tr>\n",
       "  </thead>\n",
       "  <tbody>\n",
       "    <tr>\n",
       "      <th>51</th>\n",
       "      <td>Tehran</td>\n",
       "      <td>26</td>\n",
       "      <td>سفید</td>\n",
       "      <td>135000</td>\n",
       "      <td>رنو، تندر E2 ،90 بنزینی</td>\n",
       "      <td>سالم و بی خط و خش</td>\n",
       "      <td>2.400000e+08</td>\n",
       "      <td>2</td>\n",
       "      <td>2</td>\n",
       "      <td>2</td>\n",
       "      <td>دنده ای</td>\n",
       "      <td>2022-03-05</td>\n",
       "    </tr>\n",
       "    <tr>\n",
       "      <th>80</th>\n",
       "      <td>Tehran</td>\n",
       "      <td>34</td>\n",
       "      <td>سفید</td>\n",
       "      <td>23000</td>\n",
       "      <td>SE ،131 ،پراید</td>\n",
       "      <td>سالم و بی خط و خش</td>\n",
       "      <td>1.535000e+08</td>\n",
       "      <td>2</td>\n",
       "      <td>2</td>\n",
       "      <td>8</td>\n",
       "      <td>دنده ای</td>\n",
       "      <td>2022-03-19</td>\n",
       "    </tr>\n",
       "    <tr>\n",
       "      <th>140</th>\n",
       "      <td>Tehran</td>\n",
       "      <td>29</td>\n",
       "      <td>سفید</td>\n",
       "      <td>87000</td>\n",
       "      <td>ix 45، 2400cc هیوندای، سانتافه</td>\n",
       "      <td>رنگ شدگی در ۲ ناحیه</td>\n",
       "      <td>1.290000e+09</td>\n",
       "      <td>2</td>\n",
       "      <td>2</td>\n",
       "      <td>6</td>\n",
       "      <td>اتوماتیک</td>\n",
       "      <td>2022-03-26</td>\n",
       "    </tr>\n",
       "    <tr>\n",
       "      <th>321</th>\n",
       "      <td>Tehran</td>\n",
       "      <td>29</td>\n",
       "      <td>سفید</td>\n",
       "      <td>80000</td>\n",
       "      <td>تیبا، صندوق دار، SX دوگانه سوز</td>\n",
       "      <td>سالم و بی خط و خش</td>\n",
       "      <td>1.470000e+08</td>\n",
       "      <td>2</td>\n",
       "      <td>2</td>\n",
       "      <td>6</td>\n",
       "      <td>دنده ای</td>\n",
       "      <td>2022-03-12</td>\n",
       "    </tr>\n",
       "    <tr>\n",
       "      <th>373</th>\n",
       "      <td>Tehran</td>\n",
       "      <td>20</td>\n",
       "      <td>سفید</td>\n",
       "      <td>226000</td>\n",
       "      <td>هیوندای، آوانته، اتوماتیک</td>\n",
       "      <td>خط و خش جزیی</td>\n",
       "      <td>3.400000e+08</td>\n",
       "      <td>2</td>\n",
       "      <td>2</td>\n",
       "      <td>10</td>\n",
       "      <td>اتوماتیک</td>\n",
       "      <td>2022-03-19</td>\n",
       "    </tr>\n",
       "  </tbody>\n",
       "</table>\n",
       "</div>"
      ],
      "text/plain": [
       "       City  Model_Year Color  Mileage                           Brand  \\\n",
       "51   Tehran          26  سفید   135000         رنو، تندر E2 ،90 بنزینی   \n",
       "80   Tehran          34  سفید    23000                  SE ،131 ،پراید   \n",
       "140  Tehran          29  سفید    87000  ix 45، 2400cc هیوندای، سانتافه   \n",
       "321  Tehran          29  سفید    80000  تیبا، صندوق دار، SX دوگانه سوز   \n",
       "373  Tehran          20  سفید   226000       هیوندای، آوانته، اتوماتیک   \n",
       "\n",
       "          Body_Condition         Price Engine_Condition Chassis_Condition  \\\n",
       "51     سالم و بی خط و خش  2.400000e+08                2                 2   \n",
       "80     سالم و بی خط و خش  1.535000e+08                2                 2   \n",
       "140  رنگ شدگی در ۲ ناحیه  1.290000e+09                2                 2   \n",
       "321    سالم و بی خط و خش  1.470000e+08                2                 2   \n",
       "373         خط و خش جزیی  3.400000e+08                2                 2   \n",
       "\n",
       "     Third_party_insurance   Gearbox        Time  \n",
       "51                       2   دنده ای  2022-03-05  \n",
       "80                       8   دنده ای  2022-03-19  \n",
       "140                      6  اتوماتیک  2022-03-26  \n",
       "321                      6   دنده ای  2022-03-12  \n",
       "373                     10  اتوماتیک  2022-03-19  "
      ]
     },
     "execution_count": 14,
     "metadata": {},
     "output_type": "execute_result"
    }
   ],
   "source": [
    "CHASSIS_WORKING = \"سالم و پلمپ\"\n",
    "CHASSIS_SUBSTITUTED = \"ضربه خورده\"\n",
    "CHASSIS_NEEDS_TO_BE_FIXED = \"رنگ شده\"\n",
    "chassis_condition_map = {\n",
    "    CHASSIS_WORKING: 2,\n",
    "    CHASSIS_SUBSTITUTED: 1,\n",
    "    CHASSIS_NEEDS_TO_BE_FIXED: 0\n",
    "}\n",
    "\n",
    "df.loc[df.Chassis_Condition == CHASSIS_WORKING, 'Chassis_Condition'] = 2#chassis_condition_map[CHASSIS_WORKING]\n",
    "df.loc[df.Chassis_Condition == CHASSIS_SUBSTITUTED, 'Chassis_Condition'] = 1#chassis_condition_map[CHASSIS_SUBSTITUTED]\n",
    "df.loc[df.Chassis_Condition == CHASSIS_NEEDS_TO_BE_FIXED, 'Chassis_Condition'] = 0#chassis_condition_map[CHASSIS_NEEDS_TO_BE_FIXED]\n",
    "df.head()\n",
    "# FILL HERE"
   ]
  },
  {
   "cell_type": "markdown",
   "id": "f7518cf0",
   "metadata": {
    "editable": false,
    "papermill": {
     "duration": 0.016322,
     "end_time": "2024-03-11T18:41:06.436070",
     "exception": false,
     "start_time": "2024-03-11T18:41:06.419748",
     "status": "completed"
    },
    "tags": []
   },
   "source": [
    "For 'Gearbox', map 'دنده ای' to 0 and 'اتوماتیک' to 1. **(P2-8: 1 points)**"
   ]
  },
  {
   "cell_type": "code",
   "execution_count": 15,
   "id": "04b58a2a",
   "metadata": {
    "editable": false,
    "execution": {
     "iopub.execute_input": "2024-03-11T18:41:06.469673Z",
     "iopub.status.busy": "2024-03-11T18:41:06.469366Z",
     "iopub.status.idle": "2024-03-11T18:41:06.482971Z",
     "shell.execute_reply": "2024-03-11T18:41:06.482212Z"
    },
    "papermill": {
     "duration": 0.032711,
     "end_time": "2024-03-11T18:41:06.484621",
     "exception": false,
     "start_time": "2024-03-11T18:41:06.451910",
     "status": "completed"
    },
    "tags": []
   },
   "outputs": [
    {
     "data": {
      "text/html": [
       "<div>\n",
       "<style scoped>\n",
       "    .dataframe tbody tr th:only-of-type {\n",
       "        vertical-align: middle;\n",
       "    }\n",
       "\n",
       "    .dataframe tbody tr th {\n",
       "        vertical-align: top;\n",
       "    }\n",
       "\n",
       "    .dataframe thead th {\n",
       "        text-align: right;\n",
       "    }\n",
       "</style>\n",
       "<table border=\"1\" class=\"dataframe\">\n",
       "  <thead>\n",
       "    <tr style=\"text-align: right;\">\n",
       "      <th></th>\n",
       "      <th>City</th>\n",
       "      <th>Model_Year</th>\n",
       "      <th>Color</th>\n",
       "      <th>Mileage</th>\n",
       "      <th>Brand</th>\n",
       "      <th>Body_Condition</th>\n",
       "      <th>Price</th>\n",
       "      <th>Engine_Condition</th>\n",
       "      <th>Chassis_Condition</th>\n",
       "      <th>Third_party_insurance</th>\n",
       "      <th>Gearbox</th>\n",
       "      <th>Time</th>\n",
       "    </tr>\n",
       "  </thead>\n",
       "  <tbody>\n",
       "    <tr>\n",
       "      <th>51</th>\n",
       "      <td>Tehran</td>\n",
       "      <td>26</td>\n",
       "      <td>سفید</td>\n",
       "      <td>135000</td>\n",
       "      <td>رنو، تندر E2 ،90 بنزینی</td>\n",
       "      <td>سالم و بی خط و خش</td>\n",
       "      <td>2.400000e+08</td>\n",
       "      <td>2</td>\n",
       "      <td>2</td>\n",
       "      <td>2</td>\n",
       "      <td>0</td>\n",
       "      <td>2022-03-05</td>\n",
       "    </tr>\n",
       "    <tr>\n",
       "      <th>80</th>\n",
       "      <td>Tehran</td>\n",
       "      <td>34</td>\n",
       "      <td>سفید</td>\n",
       "      <td>23000</td>\n",
       "      <td>SE ،131 ،پراید</td>\n",
       "      <td>سالم و بی خط و خش</td>\n",
       "      <td>1.535000e+08</td>\n",
       "      <td>2</td>\n",
       "      <td>2</td>\n",
       "      <td>8</td>\n",
       "      <td>0</td>\n",
       "      <td>2022-03-19</td>\n",
       "    </tr>\n",
       "    <tr>\n",
       "      <th>140</th>\n",
       "      <td>Tehran</td>\n",
       "      <td>29</td>\n",
       "      <td>سفید</td>\n",
       "      <td>87000</td>\n",
       "      <td>ix 45، 2400cc هیوندای، سانتافه</td>\n",
       "      <td>رنگ شدگی در ۲ ناحیه</td>\n",
       "      <td>1.290000e+09</td>\n",
       "      <td>2</td>\n",
       "      <td>2</td>\n",
       "      <td>6</td>\n",
       "      <td>1</td>\n",
       "      <td>2022-03-26</td>\n",
       "    </tr>\n",
       "    <tr>\n",
       "      <th>321</th>\n",
       "      <td>Tehran</td>\n",
       "      <td>29</td>\n",
       "      <td>سفید</td>\n",
       "      <td>80000</td>\n",
       "      <td>تیبا، صندوق دار، SX دوگانه سوز</td>\n",
       "      <td>سالم و بی خط و خش</td>\n",
       "      <td>1.470000e+08</td>\n",
       "      <td>2</td>\n",
       "      <td>2</td>\n",
       "      <td>6</td>\n",
       "      <td>0</td>\n",
       "      <td>2022-03-12</td>\n",
       "    </tr>\n",
       "    <tr>\n",
       "      <th>373</th>\n",
       "      <td>Tehran</td>\n",
       "      <td>20</td>\n",
       "      <td>سفید</td>\n",
       "      <td>226000</td>\n",
       "      <td>هیوندای، آوانته، اتوماتیک</td>\n",
       "      <td>خط و خش جزیی</td>\n",
       "      <td>3.400000e+08</td>\n",
       "      <td>2</td>\n",
       "      <td>2</td>\n",
       "      <td>10</td>\n",
       "      <td>1</td>\n",
       "      <td>2022-03-19</td>\n",
       "    </tr>\n",
       "  </tbody>\n",
       "</table>\n",
       "</div>"
      ],
      "text/plain": [
       "       City  Model_Year Color  Mileage                           Brand  \\\n",
       "51   Tehran          26  سفید   135000         رنو، تندر E2 ،90 بنزینی   \n",
       "80   Tehran          34  سفید    23000                  SE ،131 ،پراید   \n",
       "140  Tehran          29  سفید    87000  ix 45، 2400cc هیوندای، سانتافه   \n",
       "321  Tehran          29  سفید    80000  تیبا، صندوق دار، SX دوگانه سوز   \n",
       "373  Tehran          20  سفید   226000       هیوندای، آوانته، اتوماتیک   \n",
       "\n",
       "          Body_Condition         Price Engine_Condition Chassis_Condition  \\\n",
       "51     سالم و بی خط و خش  2.400000e+08                2                 2   \n",
       "80     سالم و بی خط و خش  1.535000e+08                2                 2   \n",
       "140  رنگ شدگی در ۲ ناحیه  1.290000e+09                2                 2   \n",
       "321    سالم و بی خط و خش  1.470000e+08                2                 2   \n",
       "373         خط و خش جزیی  3.400000e+08                2                 2   \n",
       "\n",
       "     Third_party_insurance Gearbox        Time  \n",
       "51                       2       0  2022-03-05  \n",
       "80                       8       0  2022-03-19  \n",
       "140                      6       1  2022-03-26  \n",
       "321                      6       0  2022-03-12  \n",
       "373                     10       1  2022-03-19  "
      ]
     },
     "execution_count": 15,
     "metadata": {},
     "output_type": "execute_result"
    }
   ],
   "source": [
    "GEARBOX_MANUAL = \"دنده ای\"\n",
    "GEARBOX_AUTO = \"اتوماتیک\"\n",
    "gearbox_map = {\n",
    "    GEARBOX_AUTO: 1,\n",
    "    GEARBOX_MANUAL: 0\n",
    "}\n",
    "df.loc[df.Gearbox == GEARBOX_MANUAL, 'Gearbox'] = 0 #gearbox_map[GEARBOX_MANUAL]\n",
    "df.loc[df.Gearbox == GEARBOX_AUTO, 'Gearbox'] = 1 #gearbox_map[GEARBOX_AUTO]\n",
    "df.head()\n",
    "# FILL HERE"
   ]
  },
  {
   "cell_type": "markdown",
   "id": "ecf844c0",
   "metadata": {
    "editable": false,
    "papermill": {
     "duration": 0.015895,
     "end_time": "2024-03-11T18:41:06.517784",
     "exception": false,
     "start_time": "2024-03-11T18:41:06.501889",
     "status": "completed"
    },
    "tags": []
   },
   "source": [
    "Convert the \"City\" column into one-hot format. Then drop the \"City\" column. You will need to create a column for each unique City, and in each row, the column corresponding to its City will be 1, and other columns will be 0. **(P2-9: 2 points)**"
   ]
  },
  {
   "cell_type": "code",
   "execution_count": 16,
   "id": "823ca58d",
   "metadata": {
    "editable": false,
    "execution": {
     "iopub.execute_input": "2024-03-11T18:41:06.551728Z",
     "iopub.status.busy": "2024-03-11T18:41:06.551383Z",
     "iopub.status.idle": "2024-03-11T18:41:06.563362Z",
     "shell.execute_reply": "2024-03-11T18:41:06.562742Z"
    },
    "papermill": {
     "duration": 0.031222,
     "end_time": "2024-03-11T18:41:06.565030",
     "exception": false,
     "start_time": "2024-03-11T18:41:06.533808",
     "status": "completed"
    },
    "tags": []
   },
   "outputs": [],
   "source": [
    "cities = df.City.unique()\n",
    "l = len(df.index)\n",
    "for city in cities:\n",
    "    df[city] = [0 for _ in range(l)]\n",
    "for city in cities:\n",
    "    df.loc[df.City == city, city] = 1\n",
    "df.drop('City', axis=1, inplace=True)"
   ]
  },
  {
   "cell_type": "markdown",
   "id": "f0857aa0",
   "metadata": {
    "editable": false,
    "papermill": {
     "duration": 0.015876,
     "end_time": "2024-03-11T18:41:06.597280",
     "exception": false,
     "start_time": "2024-03-11T18:41:06.581404",
     "status": "completed"
    },
    "tags": []
   },
   "source": [
    "Do the same steps for \"Color\" and \"Body_Condition\" columns **(P2-10: 2 points)**"
   ]
  },
  {
   "cell_type": "code",
   "execution_count": 17,
   "id": "9b8c9f8c",
   "metadata": {
    "editable": false,
    "execution": {
     "iopub.execute_input": "2024-03-11T18:41:06.630477Z",
     "iopub.status.busy": "2024-03-11T18:41:06.630183Z",
     "iopub.status.idle": "2024-03-11T18:41:06.659383Z",
     "shell.execute_reply": "2024-03-11T18:41:06.658634Z"
    },
    "papermill": {
     "duration": 0.048334,
     "end_time": "2024-03-11T18:41:06.661347",
     "exception": false,
     "start_time": "2024-03-11T18:41:06.613013",
     "status": "completed"
    },
    "tags": []
   },
   "outputs": [],
   "source": [
    "colors = df.Color.unique()\n",
    "l = len(df.index)\n",
    "for color in colors:\n",
    "    df[color] = [0 for _ in range(l)]\n",
    "for color in colors:\n",
    "    df.loc[df.Color == color, color] = 1\n",
    "df.drop('Color', axis=1, inplace=True)"
   ]
  },
  {
   "cell_type": "code",
   "execution_count": 18,
   "id": "10038112",
   "metadata": {
    "editable": false,
    "execution": {
     "iopub.execute_input": "2024-03-11T18:41:06.695581Z",
     "iopub.status.busy": "2024-03-11T18:41:06.694813Z",
     "iopub.status.idle": "2024-03-11T18:41:06.720422Z",
     "shell.execute_reply": "2024-03-11T18:41:06.719699Z"
    },
    "papermill": {
     "duration": 0.044331,
     "end_time": "2024-03-11T18:41:06.722155",
     "exception": false,
     "start_time": "2024-03-11T18:41:06.677824",
     "status": "completed"
    },
    "tags": []
   },
   "outputs": [],
   "source": [
    "body_conditions = df.Body_Condition.unique()\n",
    "l = len(df.index)\n",
    "for body_condition in body_conditions:\n",
    "    df[body_condition] = [0 for _ in range(l)]\n",
    "for body_condition in body_conditions:\n",
    "    df.loc[df.Body_Condition == body_condition, body_condition] = 1\n",
    "df.drop('Body_Condition', axis=1, inplace=True)"
   ]
  },
  {
   "cell_type": "markdown",
   "id": "aa143f2c",
   "metadata": {
    "editable": false,
    "papermill": {
     "duration": 0.015963,
     "end_time": "2024-03-11T18:41:06.754790",
     "exception": false,
     "start_time": "2024-03-11T18:41:06.738827",
     "status": "completed"
    },
    "tags": []
   },
   "source": [
    "Up until now, you have learned how to clean such a dataset. now, let's take other cars aside and focus on the \"Pride\". drop all the items in the dataframe where the \"Brand\" does not contain \"پراید\" and drop the \"Brand\" column **(P2-11: 3 points)**"
   ]
  },
  {
   "cell_type": "code",
   "execution_count": 19,
   "id": "d0911cb4",
   "metadata": {
    "editable": false,
    "execution": {
     "iopub.execute_input": "2024-03-11T18:41:06.787771Z",
     "iopub.status.busy": "2024-03-11T18:41:06.787441Z",
     "iopub.status.idle": "2024-03-11T18:41:06.809424Z",
     "shell.execute_reply": "2024-03-11T18:41:06.808647Z"
    },
    "papermill": {
     "duration": 0.040271,
     "end_time": "2024-03-11T18:41:06.810903",
     "exception": false,
     "start_time": "2024-03-11T18:41:06.770632",
     "status": "completed"
    },
    "tags": []
   },
   "outputs": [
    {
     "data": {
      "text/html": [
       "<div>\n",
       "<style scoped>\n",
       "    .dataframe tbody tr th:only-of-type {\n",
       "        vertical-align: middle;\n",
       "    }\n",
       "\n",
       "    .dataframe tbody tr th {\n",
       "        vertical-align: top;\n",
       "    }\n",
       "\n",
       "    .dataframe thead th {\n",
       "        text-align: right;\n",
       "    }\n",
       "</style>\n",
       "<table border=\"1\" class=\"dataframe\">\n",
       "  <thead>\n",
       "    <tr style=\"text-align: right;\">\n",
       "      <th></th>\n",
       "      <th>Model_Year</th>\n",
       "      <th>Mileage</th>\n",
       "      <th>Price</th>\n",
       "      <th>Engine_Condition</th>\n",
       "      <th>Chassis_Condition</th>\n",
       "      <th>Third_party_insurance</th>\n",
       "      <th>Gearbox</th>\n",
       "      <th>Time</th>\n",
       "      <th>Tehran</th>\n",
       "      <th>Mashhad</th>\n",
       "      <th>...</th>\n",
       "      <th>رنگ شدگی در ۴ ناحیه</th>\n",
       "      <th>صافکاری بی رنگ، در ۲ ناحیه</th>\n",
       "      <th>صافکاری بی رنگ، در ۳ ناحیه</th>\n",
       "      <th>رنگ شدگی در ۱۰ ناحیه</th>\n",
       "      <th>صافکاری بی رنگ، در ۱۰ ناحیه</th>\n",
       "      <th>رنگ شدگی در ۷ ناحیه</th>\n",
       "      <th>رنگ شدگی در ۹ ناحیه</th>\n",
       "      <th>تصادفی</th>\n",
       "      <th>صافکاری بی رنگ</th>\n",
       "      <th>صافکاری بی رنگ، در ۶ ناحیه</th>\n",
       "    </tr>\n",
       "  </thead>\n",
       "  <tbody>\n",
       "    <tr>\n",
       "      <th>80</th>\n",
       "      <td>34</td>\n",
       "      <td>23000</td>\n",
       "      <td>153500000.0</td>\n",
       "      <td>2</td>\n",
       "      <td>2</td>\n",
       "      <td>8</td>\n",
       "      <td>0</td>\n",
       "      <td>2022-03-19</td>\n",
       "      <td>1</td>\n",
       "      <td>0</td>\n",
       "      <td>...</td>\n",
       "      <td>0</td>\n",
       "      <td>0</td>\n",
       "      <td>0</td>\n",
       "      <td>0</td>\n",
       "      <td>0</td>\n",
       "      <td>0</td>\n",
       "      <td>0</td>\n",
       "      <td>0</td>\n",
       "      <td>0</td>\n",
       "      <td>0</td>\n",
       "    </tr>\n",
       "    <tr>\n",
       "      <th>405</th>\n",
       "      <td>34</td>\n",
       "      <td>38000</td>\n",
       "      <td>152000000.0</td>\n",
       "      <td>2</td>\n",
       "      <td>2</td>\n",
       "      <td>5</td>\n",
       "      <td>0</td>\n",
       "      <td>2022-03-19</td>\n",
       "      <td>1</td>\n",
       "      <td>0</td>\n",
       "      <td>...</td>\n",
       "      <td>0</td>\n",
       "      <td>0</td>\n",
       "      <td>0</td>\n",
       "      <td>0</td>\n",
       "      <td>0</td>\n",
       "      <td>0</td>\n",
       "      <td>0</td>\n",
       "      <td>0</td>\n",
       "      <td>0</td>\n",
       "      <td>0</td>\n",
       "    </tr>\n",
       "    <tr>\n",
       "      <th>453</th>\n",
       "      <td>19</td>\n",
       "      <td>300000</td>\n",
       "      <td>49000000.0</td>\n",
       "      <td>2</td>\n",
       "      <td>2</td>\n",
       "      <td>6</td>\n",
       "      <td>0</td>\n",
       "      <td>2022-03-12</td>\n",
       "      <td>1</td>\n",
       "      <td>0</td>\n",
       "      <td>...</td>\n",
       "      <td>0</td>\n",
       "      <td>0</td>\n",
       "      <td>0</td>\n",
       "      <td>0</td>\n",
       "      <td>0</td>\n",
       "      <td>0</td>\n",
       "      <td>0</td>\n",
       "      <td>0</td>\n",
       "      <td>0</td>\n",
       "      <td>0</td>\n",
       "    </tr>\n",
       "    <tr>\n",
       "      <th>756</th>\n",
       "      <td>29</td>\n",
       "      <td>137500</td>\n",
       "      <td>119000000.0</td>\n",
       "      <td>2</td>\n",
       "      <td>2</td>\n",
       "      <td>10</td>\n",
       "      <td>0</td>\n",
       "      <td>2022-03-12</td>\n",
       "      <td>1</td>\n",
       "      <td>0</td>\n",
       "      <td>...</td>\n",
       "      <td>0</td>\n",
       "      <td>0</td>\n",
       "      <td>0</td>\n",
       "      <td>0</td>\n",
       "      <td>0</td>\n",
       "      <td>0</td>\n",
       "      <td>0</td>\n",
       "      <td>0</td>\n",
       "      <td>0</td>\n",
       "      <td>0</td>\n",
       "    </tr>\n",
       "    <tr>\n",
       "      <th>939</th>\n",
       "      <td>30</td>\n",
       "      <td>92000</td>\n",
       "      <td>124000000.0</td>\n",
       "      <td>2</td>\n",
       "      <td>2</td>\n",
       "      <td>12</td>\n",
       "      <td>0</td>\n",
       "      <td>2022-03-12</td>\n",
       "      <td>1</td>\n",
       "      <td>0</td>\n",
       "      <td>...</td>\n",
       "      <td>0</td>\n",
       "      <td>0</td>\n",
       "      <td>0</td>\n",
       "      <td>0</td>\n",
       "      <td>0</td>\n",
       "      <td>0</td>\n",
       "      <td>0</td>\n",
       "      <td>0</td>\n",
       "      <td>0</td>\n",
       "      <td>0</td>\n",
       "    </tr>\n",
       "  </tbody>\n",
       "</table>\n",
       "<p>5 rows × 67 columns</p>\n",
       "</div>"
      ],
      "text/plain": [
       "     Model_Year  Mileage        Price Engine_Condition Chassis_Condition  \\\n",
       "80           34    23000  153500000.0                2                 2   \n",
       "405          34    38000  152000000.0                2                 2   \n",
       "453          19   300000   49000000.0                2                 2   \n",
       "756          29   137500  119000000.0                2                 2   \n",
       "939          30    92000  124000000.0                2                 2   \n",
       "\n",
       "     Third_party_insurance Gearbox        Time  Tehran  Mashhad  ...  \\\n",
       "80                       8       0  2022-03-19       1        0  ...   \n",
       "405                      5       0  2022-03-19       1        0  ...   \n",
       "453                      6       0  2022-03-12       1        0  ...   \n",
       "756                     10       0  2022-03-12       1        0  ...   \n",
       "939                     12       0  2022-03-12       1        0  ...   \n",
       "\n",
       "     رنگ شدگی در ۴ ناحیه  صافکاری بی رنگ، در ۲ ناحیه  \\\n",
       "80                     0                           0   \n",
       "405                    0                           0   \n",
       "453                    0                           0   \n",
       "756                    0                           0   \n",
       "939                    0                           0   \n",
       "\n",
       "     صافکاری بی رنگ، در ۳ ناحیه  رنگ شدگی در ۱۰ ناحیه  \\\n",
       "80                            0                     0   \n",
       "405                           0                     0   \n",
       "453                           0                     0   \n",
       "756                           0                     0   \n",
       "939                           0                     0   \n",
       "\n",
       "     صافکاری بی رنگ، در ۱۰ ناحیه  رنگ شدگی در ۷ ناحیه  رنگ شدگی در ۹ ناحیه  \\\n",
       "80                             0                    0                    0   \n",
       "405                            0                    0                    0   \n",
       "453                            0                    0                    0   \n",
       "756                            0                    0                    0   \n",
       "939                            0                    0                    0   \n",
       "\n",
       "     تصادفی  صافکاری بی رنگ  صافکاری بی رنگ، در ۶ ناحیه  \n",
       "80        0               0                           0  \n",
       "405       0               0                           0  \n",
       "453       0               0                           0  \n",
       "756       0               0                           0  \n",
       "939       0               0                           0  \n",
       "\n",
       "[5 rows x 67 columns]"
      ]
     },
     "execution_count": 19,
     "metadata": {},
     "output_type": "execute_result"
    }
   ],
   "source": [
    "df = df[df['Brand'].str.contains('پراید')]\n",
    "df.drop('Brand', axis=1, inplace=True)\n",
    "df.head()"
   ]
  },
  {
   "cell_type": "markdown",
   "id": "62e10144",
   "metadata": {
    "editable": false,
    "papermill": {
     "duration": 0.015991,
     "end_time": "2024-03-11T18:41:06.843655",
     "exception": false,
     "start_time": "2024-03-11T18:41:06.827664",
     "status": "completed"
    },
    "tags": []
   },
   "source": [
    "## Phase 3: Exploration (P3: 10 points)"
   ]
  },
  {
   "cell_type": "code",
   "execution_count": 20,
   "id": "2dd65f63",
   "metadata": {
    "editable": false,
    "execution": {
     "iopub.execute_input": "2024-03-11T18:41:06.877945Z",
     "iopub.status.busy": "2024-03-11T18:41:06.877621Z",
     "iopub.status.idle": "2024-03-11T18:41:06.894970Z",
     "shell.execute_reply": "2024-03-11T18:41:06.894215Z"
    },
    "papermill": {
     "duration": 0.036357,
     "end_time": "2024-03-11T18:41:06.896464",
     "exception": false,
     "start_time": "2024-03-11T18:41:06.860107",
     "status": "completed"
    },
    "tags": []
   },
   "outputs": [
    {
     "data": {
      "text/html": [
       "<div>\n",
       "<style scoped>\n",
       "    .dataframe tbody tr th:only-of-type {\n",
       "        vertical-align: middle;\n",
       "    }\n",
       "\n",
       "    .dataframe tbody tr th {\n",
       "        vertical-align: top;\n",
       "    }\n",
       "\n",
       "    .dataframe thead th {\n",
       "        text-align: right;\n",
       "    }\n",
       "</style>\n",
       "<table border=\"1\" class=\"dataframe\">\n",
       "  <thead>\n",
       "    <tr style=\"text-align: right;\">\n",
       "      <th></th>\n",
       "      <th>Model_Year</th>\n",
       "      <th>Mileage</th>\n",
       "      <th>Price</th>\n",
       "      <th>Engine_Condition</th>\n",
       "      <th>Chassis_Condition</th>\n",
       "      <th>Third_party_insurance</th>\n",
       "      <th>Gearbox</th>\n",
       "      <th>Time</th>\n",
       "      <th>Tehran</th>\n",
       "      <th>Mashhad</th>\n",
       "      <th>...</th>\n",
       "      <th>رنگ شدگی در ۴ ناحیه</th>\n",
       "      <th>صافکاری بی رنگ، در ۲ ناحیه</th>\n",
       "      <th>صافکاری بی رنگ، در ۳ ناحیه</th>\n",
       "      <th>رنگ شدگی در ۱۰ ناحیه</th>\n",
       "      <th>صافکاری بی رنگ، در ۱۰ ناحیه</th>\n",
       "      <th>رنگ شدگی در ۷ ناحیه</th>\n",
       "      <th>رنگ شدگی در ۹ ناحیه</th>\n",
       "      <th>تصادفی</th>\n",
       "      <th>صافکاری بی رنگ</th>\n",
       "      <th>صافکاری بی رنگ، در ۶ ناحیه</th>\n",
       "    </tr>\n",
       "  </thead>\n",
       "  <tbody>\n",
       "    <tr>\n",
       "      <th>80</th>\n",
       "      <td>34</td>\n",
       "      <td>23000</td>\n",
       "      <td>153500000.0</td>\n",
       "      <td>2</td>\n",
       "      <td>2</td>\n",
       "      <td>8</td>\n",
       "      <td>0</td>\n",
       "      <td>2022-03-19</td>\n",
       "      <td>1</td>\n",
       "      <td>0</td>\n",
       "      <td>...</td>\n",
       "      <td>0</td>\n",
       "      <td>0</td>\n",
       "      <td>0</td>\n",
       "      <td>0</td>\n",
       "      <td>0</td>\n",
       "      <td>0</td>\n",
       "      <td>0</td>\n",
       "      <td>0</td>\n",
       "      <td>0</td>\n",
       "      <td>0</td>\n",
       "    </tr>\n",
       "    <tr>\n",
       "      <th>405</th>\n",
       "      <td>34</td>\n",
       "      <td>38000</td>\n",
       "      <td>152000000.0</td>\n",
       "      <td>2</td>\n",
       "      <td>2</td>\n",
       "      <td>5</td>\n",
       "      <td>0</td>\n",
       "      <td>2022-03-19</td>\n",
       "      <td>1</td>\n",
       "      <td>0</td>\n",
       "      <td>...</td>\n",
       "      <td>0</td>\n",
       "      <td>0</td>\n",
       "      <td>0</td>\n",
       "      <td>0</td>\n",
       "      <td>0</td>\n",
       "      <td>0</td>\n",
       "      <td>0</td>\n",
       "      <td>0</td>\n",
       "      <td>0</td>\n",
       "      <td>0</td>\n",
       "    </tr>\n",
       "    <tr>\n",
       "      <th>453</th>\n",
       "      <td>19</td>\n",
       "      <td>300000</td>\n",
       "      <td>49000000.0</td>\n",
       "      <td>2</td>\n",
       "      <td>2</td>\n",
       "      <td>6</td>\n",
       "      <td>0</td>\n",
       "      <td>2022-03-12</td>\n",
       "      <td>1</td>\n",
       "      <td>0</td>\n",
       "      <td>...</td>\n",
       "      <td>0</td>\n",
       "      <td>0</td>\n",
       "      <td>0</td>\n",
       "      <td>0</td>\n",
       "      <td>0</td>\n",
       "      <td>0</td>\n",
       "      <td>0</td>\n",
       "      <td>0</td>\n",
       "      <td>0</td>\n",
       "      <td>0</td>\n",
       "    </tr>\n",
       "    <tr>\n",
       "      <th>756</th>\n",
       "      <td>29</td>\n",
       "      <td>137500</td>\n",
       "      <td>119000000.0</td>\n",
       "      <td>2</td>\n",
       "      <td>2</td>\n",
       "      <td>10</td>\n",
       "      <td>0</td>\n",
       "      <td>2022-03-12</td>\n",
       "      <td>1</td>\n",
       "      <td>0</td>\n",
       "      <td>...</td>\n",
       "      <td>0</td>\n",
       "      <td>0</td>\n",
       "      <td>0</td>\n",
       "      <td>0</td>\n",
       "      <td>0</td>\n",
       "      <td>0</td>\n",
       "      <td>0</td>\n",
       "      <td>0</td>\n",
       "      <td>0</td>\n",
       "      <td>0</td>\n",
       "    </tr>\n",
       "    <tr>\n",
       "      <th>939</th>\n",
       "      <td>30</td>\n",
       "      <td>92000</td>\n",
       "      <td>124000000.0</td>\n",
       "      <td>2</td>\n",
       "      <td>2</td>\n",
       "      <td>12</td>\n",
       "      <td>0</td>\n",
       "      <td>2022-03-12</td>\n",
       "      <td>1</td>\n",
       "      <td>0</td>\n",
       "      <td>...</td>\n",
       "      <td>0</td>\n",
       "      <td>0</td>\n",
       "      <td>0</td>\n",
       "      <td>0</td>\n",
       "      <td>0</td>\n",
       "      <td>0</td>\n",
       "      <td>0</td>\n",
       "      <td>0</td>\n",
       "      <td>0</td>\n",
       "      <td>0</td>\n",
       "    </tr>\n",
       "  </tbody>\n",
       "</table>\n",
       "<p>5 rows × 67 columns</p>\n",
       "</div>"
      ],
      "text/plain": [
       "     Model_Year  Mileage        Price Engine_Condition Chassis_Condition  \\\n",
       "80           34    23000  153500000.0                2                 2   \n",
       "405          34    38000  152000000.0                2                 2   \n",
       "453          19   300000   49000000.0                2                 2   \n",
       "756          29   137500  119000000.0                2                 2   \n",
       "939          30    92000  124000000.0                2                 2   \n",
       "\n",
       "     Third_party_insurance Gearbox        Time  Tehran  Mashhad  ...  \\\n",
       "80                       8       0  2022-03-19       1        0  ...   \n",
       "405                      5       0  2022-03-19       1        0  ...   \n",
       "453                      6       0  2022-03-12       1        0  ...   \n",
       "756                     10       0  2022-03-12       1        0  ...   \n",
       "939                     12       0  2022-03-12       1        0  ...   \n",
       "\n",
       "     رنگ شدگی در ۴ ناحیه  صافکاری بی رنگ، در ۲ ناحیه  \\\n",
       "80                     0                           0   \n",
       "405                    0                           0   \n",
       "453                    0                           0   \n",
       "756                    0                           0   \n",
       "939                    0                           0   \n",
       "\n",
       "     صافکاری بی رنگ، در ۳ ناحیه  رنگ شدگی در ۱۰ ناحیه  \\\n",
       "80                            0                     0   \n",
       "405                           0                     0   \n",
       "453                           0                     0   \n",
       "756                           0                     0   \n",
       "939                           0                     0   \n",
       "\n",
       "     صافکاری بی رنگ، در ۱۰ ناحیه  رنگ شدگی در ۷ ناحیه  رنگ شدگی در ۹ ناحیه  \\\n",
       "80                             0                    0                    0   \n",
       "405                            0                    0                    0   \n",
       "453                            0                    0                    0   \n",
       "756                            0                    0                    0   \n",
       "939                            0                    0                    0   \n",
       "\n",
       "     تصادفی  صافکاری بی رنگ  صافکاری بی رنگ، در ۶ ناحیه  \n",
       "80        0               0                           0  \n",
       "405       0               0                           0  \n",
       "453       0               0                           0  \n",
       "756       0               0                           0  \n",
       "939       0               0                           0  \n",
       "\n",
       "[5 rows x 67 columns]"
      ]
     },
     "execution_count": 20,
     "metadata": {},
     "output_type": "execute_result"
    }
   ],
   "source": [
    "df.head()"
   ]
  },
  {
   "cell_type": "markdown",
   "id": "51332b42",
   "metadata": {
    "editable": false,
    "papermill": {
     "duration": 0.016742,
     "end_time": "2024-03-11T18:41:06.930503",
     "exception": false,
     "start_time": "2024-03-11T18:41:06.913761",
     "status": "completed"
    },
    "tags": []
   },
   "source": [
    "Create **a copy** of the first 7 columns of the dataframe (We won't visualize the one-hot features. so we don't need them). **(P3-1: 2 points)**"
   ]
  },
  {
   "cell_type": "code",
   "execution_count": 21,
   "id": "1f6ce5e2",
   "metadata": {
    "editable": false,
    "execution": {
     "iopub.execute_input": "2024-03-11T18:41:06.965354Z",
     "iopub.status.busy": "2024-03-11T18:41:06.965043Z",
     "iopub.status.idle": "2024-03-11T18:41:06.969118Z",
     "shell.execute_reply": "2024-03-11T18:41:06.968465Z"
    },
    "papermill": {
     "duration": 0.023378,
     "end_time": "2024-03-11T18:41:06.970544",
     "exception": false,
     "start_time": "2024-03-11T18:41:06.947166",
     "status": "completed"
    },
    "tags": []
   },
   "outputs": [],
   "source": [
    "df_small = df.iloc[ : , np.arange(7)]"
   ]
  },
  {
   "cell_type": "code",
   "execution_count": 22,
   "id": "cfaf1f5c",
   "metadata": {
    "editable": false,
    "execution": {
     "iopub.execute_input": "2024-03-11T18:41:07.005150Z",
     "iopub.status.busy": "2024-03-11T18:41:07.004862Z",
     "iopub.status.idle": "2024-03-11T18:41:07.015060Z",
     "shell.execute_reply": "2024-03-11T18:41:07.014287Z"
    },
    "papermill": {
     "duration": 0.029255,
     "end_time": "2024-03-11T18:41:07.016600",
     "exception": false,
     "start_time": "2024-03-11T18:41:06.987345",
     "status": "completed"
    },
    "tags": []
   },
   "outputs": [
    {
     "data": {
      "text/html": [
       "<div>\n",
       "<style scoped>\n",
       "    .dataframe tbody tr th:only-of-type {\n",
       "        vertical-align: middle;\n",
       "    }\n",
       "\n",
       "    .dataframe tbody tr th {\n",
       "        vertical-align: top;\n",
       "    }\n",
       "\n",
       "    .dataframe thead th {\n",
       "        text-align: right;\n",
       "    }\n",
       "</style>\n",
       "<table border=\"1\" class=\"dataframe\">\n",
       "  <thead>\n",
       "    <tr style=\"text-align: right;\">\n",
       "      <th></th>\n",
       "      <th>Model_Year</th>\n",
       "      <th>Mileage</th>\n",
       "      <th>Price</th>\n",
       "      <th>Engine_Condition</th>\n",
       "      <th>Chassis_Condition</th>\n",
       "      <th>Third_party_insurance</th>\n",
       "      <th>Gearbox</th>\n",
       "    </tr>\n",
       "  </thead>\n",
       "  <tbody>\n",
       "    <tr>\n",
       "      <th>80</th>\n",
       "      <td>34</td>\n",
       "      <td>23000</td>\n",
       "      <td>153500000.0</td>\n",
       "      <td>2</td>\n",
       "      <td>2</td>\n",
       "      <td>8</td>\n",
       "      <td>0</td>\n",
       "    </tr>\n",
       "    <tr>\n",
       "      <th>405</th>\n",
       "      <td>34</td>\n",
       "      <td>38000</td>\n",
       "      <td>152000000.0</td>\n",
       "      <td>2</td>\n",
       "      <td>2</td>\n",
       "      <td>5</td>\n",
       "      <td>0</td>\n",
       "    </tr>\n",
       "    <tr>\n",
       "      <th>453</th>\n",
       "      <td>19</td>\n",
       "      <td>300000</td>\n",
       "      <td>49000000.0</td>\n",
       "      <td>2</td>\n",
       "      <td>2</td>\n",
       "      <td>6</td>\n",
       "      <td>0</td>\n",
       "    </tr>\n",
       "    <tr>\n",
       "      <th>756</th>\n",
       "      <td>29</td>\n",
       "      <td>137500</td>\n",
       "      <td>119000000.0</td>\n",
       "      <td>2</td>\n",
       "      <td>2</td>\n",
       "      <td>10</td>\n",
       "      <td>0</td>\n",
       "    </tr>\n",
       "    <tr>\n",
       "      <th>939</th>\n",
       "      <td>30</td>\n",
       "      <td>92000</td>\n",
       "      <td>124000000.0</td>\n",
       "      <td>2</td>\n",
       "      <td>2</td>\n",
       "      <td>12</td>\n",
       "      <td>0</td>\n",
       "    </tr>\n",
       "  </tbody>\n",
       "</table>\n",
       "</div>"
      ],
      "text/plain": [
       "     Model_Year  Mileage        Price Engine_Condition Chassis_Condition  \\\n",
       "80           34    23000  153500000.0                2                 2   \n",
       "405          34    38000  152000000.0                2                 2   \n",
       "453          19   300000   49000000.0                2                 2   \n",
       "756          29   137500  119000000.0                2                 2   \n",
       "939          30    92000  124000000.0                2                 2   \n",
       "\n",
       "     Third_party_insurance Gearbox  \n",
       "80                       8       0  \n",
       "405                      5       0  \n",
       "453                      6       0  \n",
       "756                     10       0  \n",
       "939                     12       0  "
      ]
     },
     "execution_count": 22,
     "metadata": {},
     "output_type": "execute_result"
    }
   ],
   "source": [
    "df_small.head()"
   ]
  },
  {
   "cell_type": "code",
   "execution_count": 23,
   "id": "2a532498",
   "metadata": {
    "editable": false,
    "execution": {
     "iopub.execute_input": "2024-03-11T18:41:07.051370Z",
     "iopub.status.busy": "2024-03-11T18:41:07.051078Z",
     "iopub.status.idle": "2024-03-11T18:41:07.056802Z",
     "shell.execute_reply": "2024-03-11T18:41:07.056067Z"
    },
    "papermill": {
     "duration": 0.024996,
     "end_time": "2024-03-11T18:41:07.058425",
     "exception": false,
     "start_time": "2024-03-11T18:41:07.033429",
     "status": "completed"
    },
    "tags": []
   },
   "outputs": [
    {
     "data": {
      "text/plain": [
       "80        8\n",
       "405       5\n",
       "453       6\n",
       "756      10\n",
       "939      12\n",
       "         ..\n",
       "52121     9\n",
       "53833     4\n",
       "53837     6\n",
       "54057     8\n",
       "54927    11\n",
       "Name: Third_party_insurance, Length: 109, dtype: int64"
      ]
     },
     "execution_count": 23,
     "metadata": {},
     "output_type": "execute_result"
    }
   ],
   "source": [
    "df.Third_party_insurance"
   ]
  },
  {
   "cell_type": "code",
   "execution_count": 24,
   "id": "912af528",
   "metadata": {
    "editable": false,
    "execution": {
     "iopub.execute_input": "2024-03-11T18:41:07.093257Z",
     "iopub.status.busy": "2024-03-11T18:41:07.092966Z",
     "iopub.status.idle": "2024-03-11T18:41:07.099123Z",
     "shell.execute_reply": "2024-03-11T18:41:07.098401Z"
    },
    "papermill": {
     "duration": 0.025264,
     "end_time": "2024-03-11T18:41:07.100648",
     "exception": false,
     "start_time": "2024-03-11T18:41:07.075384",
     "status": "completed"
    },
    "tags": []
   },
   "outputs": [
    {
     "data": {
      "text/plain": [
       "80       0\n",
       "405      0\n",
       "453      0\n",
       "756      0\n",
       "939      0\n",
       "        ..\n",
       "52121    0\n",
       "53833    0\n",
       "53837    0\n",
       "54057    0\n",
       "54927    0\n",
       "Name: Gearbox, Length: 109, dtype: object"
      ]
     },
     "execution_count": 24,
     "metadata": {},
     "output_type": "execute_result"
    }
   ],
   "source": [
    "df.Gearbox"
   ]
  },
  {
   "cell_type": "markdown",
   "id": "4feedab6",
   "metadata": {
    "editable": false,
    "papermill": {
     "duration": 0.017128,
     "end_time": "2024-03-11T18:41:07.134633",
     "exception": false,
     "start_time": "2024-03-11T18:41:07.117505",
     "status": "completed"
    },
    "tags": []
   },
   "source": [
    "Utilize histograms and box plots to visualize the distribution of the  **(P3-2: 5 points)**"
   ]
  },
  {
   "cell_type": "code",
   "execution_count": 25,
   "id": "2a326fe4",
   "metadata": {
    "editable": false,
    "execution": {
     "iopub.execute_input": "2024-03-11T18:41:07.169749Z",
     "iopub.status.busy": "2024-03-11T18:41:07.169419Z",
     "iopub.status.idle": "2024-03-11T18:41:09.649142Z",
     "shell.execute_reply": "2024-03-11T18:41:09.648533Z"
    },
    "papermill": {
     "duration": 2.499307,
     "end_time": "2024-03-11T18:41:09.650718",
     "exception": false,
     "start_time": "2024-03-11T18:41:07.151411",
     "status": "completed"
    },
    "tags": []
   },
   "outputs": [
    {
     "data": {
      "image/png": "[encoded data removed]",
      "text/plain": [
       "<Figure size 2400x2400 with 14 Axes>"
      ]
     },
     "metadata": {},
     "output_type": "display_data"
    }
   ],
   "source": [
    "fig, axes = plt.subplots(7, 2, figsize=(24,24))\n",
    "i=0\n",
    "for triaxis in axes:\n",
    "    try:\n",
    "        df_small.hist(column=df_small.columns[i], bins=100, ax=triaxis[0])\n",
    "        df_small.boxplot(column=df_small.columns[i], vert=False, ax=triaxis[1])\n",
    "        i += 1\n",
    "    except:\n",
    "        i += 1"
   ]
  },
  {
   "cell_type": "markdown",
   "id": "bc33882b",
   "metadata": {
    "editable": false,
    "papermill": {
     "duration": 0.017885,
     "end_time": "2024-03-11T18:41:09.687001",
     "exception": false,
     "start_time": "2024-03-11T18:41:09.669116",
     "status": "completed"
    },
    "tags": []
   },
   "source": [
    "Print the correlation coefficients matrix **(P3-3: 1 points)**"
   ]
  },
  {
   "cell_type": "code",
   "execution_count": 26,
   "id": "630234b8",
   "metadata": {
    "editable": false,
    "execution": {
     "iopub.execute_input": "2024-03-11T18:41:09.724424Z",
     "iopub.status.busy": "2024-03-11T18:41:09.724103Z",
     "iopub.status.idle": "2024-03-11T18:41:09.738504Z",
     "shell.execute_reply": "2024-03-11T18:41:09.737813Z"
    },
    "papermill": {
     "duration": 0.035049,
     "end_time": "2024-03-11T18:41:09.739958",
     "exception": false,
     "start_time": "2024-03-11T18:41:09.704909",
     "status": "completed"
    },
    "tags": []
   },
   "outputs": [
    {
     "data": {
      "text/html": [
       "<div>\n",
       "<style scoped>\n",
       "    .dataframe tbody tr th:only-of-type {\n",
       "        vertical-align: middle;\n",
       "    }\n",
       "\n",
       "    .dataframe tbody tr th {\n",
       "        vertical-align: top;\n",
       "    }\n",
       "\n",
       "    .dataframe thead th {\n",
       "        text-align: right;\n",
       "    }\n",
       "</style>\n",
       "<table border=\"1\" class=\"dataframe\">\n",
       "  <thead>\n",
       "    <tr style=\"text-align: right;\">\n",
       "      <th></th>\n",
       "      <th>Model_Year</th>\n",
       "      <th>Mileage</th>\n",
       "      <th>Price</th>\n",
       "      <th>Engine_Condition</th>\n",
       "      <th>Chassis_Condition</th>\n",
       "      <th>Third_party_insurance</th>\n",
       "      <th>Gearbox</th>\n",
       "    </tr>\n",
       "  </thead>\n",
       "  <tbody>\n",
       "    <tr>\n",
       "      <th>Model_Year</th>\n",
       "      <td>1.000000</td>\n",
       "      <td>-0.736262</td>\n",
       "      <td>0.937551</td>\n",
       "      <td>0.185410</td>\n",
       "      <td>0.048395</td>\n",
       "      <td>0.029825</td>\n",
       "      <td>NaN</td>\n",
       "    </tr>\n",
       "    <tr>\n",
       "      <th>Mileage</th>\n",
       "      <td>-0.736262</td>\n",
       "      <td>1.000000</td>\n",
       "      <td>-0.738927</td>\n",
       "      <td>-0.203812</td>\n",
       "      <td>-0.156697</td>\n",
       "      <td>-0.084053</td>\n",
       "      <td>NaN</td>\n",
       "    </tr>\n",
       "    <tr>\n",
       "      <th>Price</th>\n",
       "      <td>0.937551</td>\n",
       "      <td>-0.738927</td>\n",
       "      <td>1.000000</td>\n",
       "      <td>0.204129</td>\n",
       "      <td>0.106977</td>\n",
       "      <td>0.091359</td>\n",
       "      <td>NaN</td>\n",
       "    </tr>\n",
       "    <tr>\n",
       "      <th>Engine_Condition</th>\n",
       "      <td>0.185410</td>\n",
       "      <td>-0.203812</td>\n",
       "      <td>0.204129</td>\n",
       "      <td>1.000000</td>\n",
       "      <td>-0.018692</td>\n",
       "      <td>-0.131603</td>\n",
       "      <td>NaN</td>\n",
       "    </tr>\n",
       "    <tr>\n",
       "      <th>Chassis_Condition</th>\n",
       "      <td>0.048395</td>\n",
       "      <td>-0.156697</td>\n",
       "      <td>0.106977</td>\n",
       "      <td>-0.018692</td>\n",
       "      <td>1.000000</td>\n",
       "      <td>0.053789</td>\n",
       "      <td>NaN</td>\n",
       "    </tr>\n",
       "    <tr>\n",
       "      <th>Third_party_insurance</th>\n",
       "      <td>0.029825</td>\n",
       "      <td>-0.084053</td>\n",
       "      <td>0.091359</td>\n",
       "      <td>-0.131603</td>\n",
       "      <td>0.053789</td>\n",
       "      <td>1.000000</td>\n",
       "      <td>NaN</td>\n",
       "    </tr>\n",
       "    <tr>\n",
       "      <th>Gearbox</th>\n",
       "      <td>NaN</td>\n",
       "      <td>NaN</td>\n",
       "      <td>NaN</td>\n",
       "      <td>NaN</td>\n",
       "      <td>NaN</td>\n",
       "      <td>NaN</td>\n",
       "      <td>NaN</td>\n",
       "    </tr>\n",
       "  </tbody>\n",
       "</table>\n",
       "</div>"
      ],
      "text/plain": [
       "                       Model_Year   Mileage     Price  Engine_Condition  \\\n",
       "Model_Year               1.000000 -0.736262  0.937551          0.185410   \n",
       "Mileage                 -0.736262  1.000000 -0.738927         -0.203812   \n",
       "Price                    0.937551 -0.738927  1.000000          0.204129   \n",
       "Engine_Condition         0.185410 -0.203812  0.204129          1.000000   \n",
       "Chassis_Condition        0.048395 -0.156697  0.106977         -0.018692   \n",
       "Third_party_insurance    0.029825 -0.084053  0.091359         -0.131603   \n",
       "Gearbox                       NaN       NaN       NaN               NaN   \n",
       "\n",
       "                       Chassis_Condition  Third_party_insurance  Gearbox  \n",
       "Model_Year                      0.048395               0.029825      NaN  \n",
       "Mileage                        -0.156697              -0.084053      NaN  \n",
       "Price                           0.106977               0.091359      NaN  \n",
       "Engine_Condition               -0.018692              -0.131603      NaN  \n",
       "Chassis_Condition               1.000000               0.053789      NaN  \n",
       "Third_party_insurance           0.053789               1.000000      NaN  \n",
       "Gearbox                              NaN                    NaN      NaN  "
      ]
     },
     "execution_count": 26,
     "metadata": {},
     "output_type": "execute_result"
    }
   ],
   "source": [
    "df_small.corr()"
   ]
  },
  {
   "cell_type": "markdown",
   "id": "92258ce4",
   "metadata": {
    "editable": false,
    "papermill": {
     "duration": 0.017937,
     "end_time": "2024-03-11T18:41:09.776084",
     "exception": false,
     "start_time": "2024-03-11T18:41:09.758147",
     "status": "completed"
    },
    "tags": []
   },
   "source": [
    "Plot `Price` plot according to`Mileage` using `seaborn.scatterplot` **(P3-4: 1 points)**"
   ]
  },
  {
   "cell_type": "code",
   "execution_count": 27,
   "id": "3e7d5a34",
   "metadata": {
    "editable": false,
    "execution": {
     "iopub.execute_input": "2024-03-11T18:41:09.813941Z",
     "iopub.status.busy": "2024-03-11T18:41:09.813361Z",
     "iopub.status.idle": "2024-03-11T18:41:10.010243Z",
     "shell.execute_reply": "2024-03-11T18:41:10.009649Z"
    },
    "papermill": {
     "duration": 0.217515,
     "end_time": "2024-03-11T18:41:10.011682",
     "exception": false,
     "start_time": "2024-03-11T18:41:09.794167",
     "status": "completed"
    },
    "tags": []
   },
   "outputs": [
    {
     "data": {
      "text/plain": [
       "<Axes: xlabel='Mileage', ylabel='Price'>"
      ]
     },
     "execution_count": 27,
     "metadata": {},
     "output_type": "execute_result"
    },
    {
     "data": {
      "image/png": "[encoded data removed]",
      "text/plain": [
       "<Figure size 640x480 with 1 Axes>"
      ]
     },
     "metadata": {},
     "output_type": "display_data"
    }
   ],
   "source": [
    "sns.scatterplot(x='Mileage', y='Price', data=df_small)"
   ]
  },
  {
   "cell_type": "markdown",
   "id": "cba8a93a",
   "metadata": {
    "editable": false,
    "papermill": {
     "duration": 0.018098,
     "end_time": "2024-03-11T18:41:10.048216",
     "exception": false,
     "start_time": "2024-03-11T18:41:10.030118",
     "status": "completed"
    },
    "tags": []
   },
   "source": [
    "Plot `Model_Year` plot according to`Gearbox` using `seaborn.lineplot` **(P3-5: 1 points)**"
   ]
  },
  {
   "cell_type": "code",
   "execution_count": 28,
   "id": "c2531a92",
   "metadata": {
    "execution": {
     "iopub.execute_input": "2024-03-11T18:41:10.086479Z",
     "iopub.status.busy": "2024-03-11T18:41:10.086150Z",
     "iopub.status.idle": "2024-03-11T18:41:10.272956Z",
     "shell.execute_reply": "2024-03-11T18:41:10.272152Z"
    },
    "papermill": {
     "duration": 0.208191,
     "end_time": "2024-03-11T18:41:10.274527",
     "exception": false,
     "start_time": "2024-03-11T18:41:10.066336",
     "status": "completed"
    },
    "tags": []
   },
   "outputs": [
    {
     "data": {
      "text/plain": [
       "<Axes: xlabel='Gearbox', ylabel='Model_Year'>"
      ]
     },
     "execution_count": 28,
     "metadata": {},
     "output_type": "execute_result"
    },
    {
     "data": {
      "image/png": "[encoded data removed]",
      "text/plain": [
       "<Figure size 640x480 with 1 Axes>"
      ]
     },
     "metadata": {},
     "output_type": "display_data"
    }
   ],
   "source": [
    "sns.lineplot(x='Gearbox', y='Model_Year', data=df_small)"
   ]
  },
  {
   "cell_type": "markdown",
   "id": "4bafa00f",
   "metadata": {
    "editable": false,
    "papermill": {
     "duration": 0.018667,
     "end_time": "2024-03-11T18:41:10.312372",
     "exception": false,
     "start_time": "2024-03-11T18:41:10.293705",
     "status": "completed"
    },
    "tags": []
   },
   "source": [
    "It's clear that some columns are more correlated with the price. In practice, when dealing with many columns, we might set aside the least correlated ones and focus on the rest. However, here we will continue with all columns of 'df'."
   ]
  },
  {
   "cell_type": "markdown",
   "id": "787249b5",
   "metadata": {
    "editable": false,
    "papermill": {
     "duration": 0.019549,
     "end_time": "2024-03-11T18:41:10.350928",
     "exception": false,
     "start_time": "2024-03-11T18:41:10.331379",
     "status": "completed"
    },
    "tags": []
   },
   "source": [
    "## Phase 4: Training (P4: 55 points)"
   ]
  },
  {
   "cell_type": "markdown",
   "id": "e0a20131",
   "metadata": {
    "editable": false,
    "papermill": {
     "duration": 0.019408,
     "end_time": "2024-03-11T18:41:10.390166",
     "exception": false,
     "start_time": "2024-03-11T18:41:10.370758",
     "status": "completed"
    },
    "tags": []
   },
   "source": [
    "### Sec 1: Preparing features and Targets (P4-Sec1: 10 points)"
   ]
  },
  {
   "cell_type": "markdown",
   "id": "9f7e491d",
   "metadata": {
    "editable": false,
    "papermill": {
     "duration": 0.019279,
     "end_time": "2024-03-11T18:41:10.429316",
     "exception": false,
     "start_time": "2024-03-11T18:41:10.410037",
     "status": "completed"
    },
    "tags": []
   },
   "source": [
    "Extract only the features from the dataframe by removing the target column (\"Price\").\n",
    "Note: Do not remove the previous dataframe. **(P4-1-1: 2 points)**"
   ]
  },
  {
   "cell_type": "code",
   "execution_count": 29,
   "id": "14c37a2b",
   "metadata": {
    "execution": {
     "iopub.execute_input": "2024-03-11T18:41:10.469825Z",
     "iopub.status.busy": "2024-03-11T18:41:10.468975Z",
     "iopub.status.idle": "2024-03-11T18:41:10.474074Z",
     "shell.execute_reply": "2024-03-11T18:41:10.473505Z"
    },
    "papermill": {
     "duration": 0.026986,
     "end_time": "2024-03-11T18:41:10.475704",
     "exception": false,
     "start_time": "2024-03-11T18:41:10.448718",
     "status": "completed"
    },
    "tags": []
   },
   "outputs": [],
   "source": [
    "features = df_small.drop('Price', axis=1, inplace=False).copy()"
   ]
  },
  {
   "cell_type": "markdown",
   "id": "6f6f0f50",
   "metadata": {
    "editable": false,
    "papermill": {
     "duration": 0.018912,
     "end_time": "2024-03-11T18:41:10.514560",
     "exception": false,
     "start_time": "2024-03-11T18:41:10.495648",
     "status": "completed"
    },
    "tags": []
   },
   "source": [
    "Convert the new dataframe into a numpy array. **(P4-1-2: 1 points)**"
   ]
  },
  {
   "cell_type": "code",
   "execution_count": 30,
   "id": "a6d72ff7",
   "metadata": {
    "execution": {
     "iopub.execute_input": "2024-03-11T18:41:10.553834Z",
     "iopub.status.busy": "2024-03-11T18:41:10.553080Z",
     "iopub.status.idle": "2024-03-11T18:41:10.557225Z",
     "shell.execute_reply": "2024-03-11T18:41:10.556303Z"
    },
    "papermill": {
     "duration": 0.025617,
     "end_time": "2024-03-11T18:41:10.558874",
     "exception": false,
     "start_time": "2024-03-11T18:41:10.533257",
     "status": "completed"
    },
    "tags": []
   },
   "outputs": [],
   "source": [
    "x = features.to_numpy()"
   ]
  },
  {
   "cell_type": "markdown",
   "id": "49b7c9e9",
   "metadata": {
    "editable": false,
    "papermill": {
     "duration": 0.018986,
     "end_time": "2024-03-11T18:41:10.597229",
     "exception": false,
     "start_time": "2024-03-11T18:41:10.578243",
     "status": "completed"
    },
    "tags": []
   },
   "source": [
    "Get the target column from the previous dataframe and convert it to another numpy array named y **(P4-1-3: 1 points)**"
   ]
  },
  {
   "cell_type": "code",
   "execution_count": 31,
   "id": "bdeff1dd",
   "metadata": {
    "execution": {
     "iopub.execute_input": "2024-03-11T18:41:10.636961Z",
     "iopub.status.busy": "2024-03-11T18:41:10.636284Z",
     "iopub.status.idle": "2024-03-11T18:41:10.640533Z",
     "shell.execute_reply": "2024-03-11T18:41:10.639807Z"
    },
    "papermill": {
     "duration": 0.025775,
     "end_time": "2024-03-11T18:41:10.642127",
     "exception": false,
     "start_time": "2024-03-11T18:41:10.616352",
     "status": "completed"
    },
    "tags": []
   },
   "outputs": [],
   "source": [
    "y = df_small.Price.to_numpy()"
   ]
  },
  {
   "cell_type": "markdown",
   "id": "50e62ae7",
   "metadata": {
    "editable": false,
    "papermill": {
     "duration": 0.018392,
     "end_time": "2024-03-11T18:41:10.679466",
     "exception": false,
     "start_time": "2024-03-11T18:41:10.661074",
     "status": "completed"
    },
    "tags": []
   },
   "source": [
    "Split the dataset into two parts such that the training set (denoted a`x_train` and `y_train`), contains 80% of the samples. **(P4-1-4: 3 points)**"
   ]
  },
  {
   "cell_type": "code",
   "execution_count": 32,
   "id": "7e307c08",
   "metadata": {
    "execution": {
     "iopub.execute_input": "2024-03-11T18:41:10.720064Z",
     "iopub.status.busy": "2024-03-11T18:41:10.719743Z",
     "iopub.status.idle": "2024-03-11T18:41:10.827418Z",
     "shell.execute_reply": "2024-03-11T18:41:10.826756Z"
    },
    "papermill": {
     "duration": 0.130816,
     "end_time": "2024-03-11T18:41:10.829459",
     "exception": false,
     "start_time": "2024-03-11T18:41:10.698643",
     "status": "completed"
    },
    "tags": []
   },
   "outputs": [],
   "source": [
    "from sklearn.model_selection import train_test_split\n",
    "x_train, x_test, y_train, y_test = train_test_split(x, y, test_size=0.2)"
   ]
  },
  {
   "cell_type": "markdown",
   "id": "f197c194",
   "metadata": {
    "editable": false,
    "papermill": {
     "duration": 0.018525,
     "end_time": "2024-03-11T18:41:10.867523",
     "exception": false,
     "start_time": "2024-03-11T18:41:10.848998",
     "status": "completed"
    },
    "tags": []
   },
   "source": [
    "Fit MinMaxScaler on the training data and apply it to the entire dataset to normalize all columns of data into the range [0-1]. **(P4-1-5: 4 points)**"
   ]
  },
  {
   "cell_type": "code",
   "execution_count": 33,
   "id": "2d94f712",
   "metadata": {
    "editable": false,
    "execution": {
     "iopub.execute_input": "2024-03-11T18:41:10.908169Z",
     "iopub.status.busy": "2024-03-11T18:41:10.907569Z",
     "iopub.status.idle": "2024-03-11T18:41:10.911230Z",
     "shell.execute_reply": "2024-03-11T18:41:10.910635Z"
    },
    "papermill": {
     "duration": 0.025695,
     "end_time": "2024-03-11T18:41:10.912656",
     "exception": false,
     "start_time": "2024-03-11T18:41:10.886961",
     "status": "completed"
    },
    "tags": []
   },
   "outputs": [],
   "source": [
    "from sklearn.preprocessing import MinMaxScaler\n",
    "\n",
    "# FILL HERE"
   ]
  },
  {
   "cell_type": "code",
   "execution_count": 34,
   "id": "dc213551",
   "metadata": {
    "execution": {
     "iopub.execute_input": "2024-03-11T18:41:10.952730Z",
     "iopub.status.busy": "2024-03-11T18:41:10.952193Z",
     "iopub.status.idle": "2024-03-11T18:41:10.956804Z",
     "shell.execute_reply": "2024-03-11T18:41:10.955811Z"
    },
    "papermill": {
     "duration": 0.026561,
     "end_time": "2024-03-11T18:41:10.958386",
     "exception": false,
     "start_time": "2024-03-11T18:41:10.931825",
     "status": "completed"
    },
    "tags": []
   },
   "outputs": [
    {
     "name": "stdout",
     "output_type": "stream",
     "text": [
      "<class 'numpy.ndarray'>\n"
     ]
    }
   ],
   "source": [
    "print(type(y_train))"
   ]
  },
  {
   "cell_type": "code",
   "execution_count": 35,
   "id": "db71e12e",
   "metadata": {
    "execution": {
     "iopub.execute_input": "2024-03-11T18:41:10.997855Z",
     "iopub.status.busy": "2024-03-11T18:41:10.997571Z",
     "iopub.status.idle": "2024-03-11T18:41:11.002748Z",
     "shell.execute_reply": "2024-03-11T18:41:11.002097Z"
    },
    "papermill": {
     "duration": 0.026506,
     "end_time": "2024-03-11T18:41:11.004304",
     "exception": false,
     "start_time": "2024-03-11T18:41:10.977798",
     "status": "completed"
    },
    "tags": []
   },
   "outputs": [],
   "source": [
    "from sklearn.preprocessing import MinMaxScaler\n",
    "x_train = MinMaxScaler().fit(x_train).transform(x_train)\n",
    "y_train = y_train.reshape(-1, 1)\n",
    "y_train = MinMaxScaler().fit_transform(y_train)"
   ]
  },
  {
   "cell_type": "markdown",
   "id": "60831378",
   "metadata": {
    "editable": false,
    "papermill": {
     "duration": 0.018276,
     "end_time": "2024-03-11T18:41:11.041323",
     "exception": false,
     "start_time": "2024-03-11T18:41:11.023047",
     "status": "completed"
    },
    "tags": []
   },
   "source": [
    "### Sec 2: Linear Regression, Lasso and Ridge Regression from Scratch (P4-Sec2: 40 points)"
   ]
  },
  {
   "cell_type": "code",
   "execution_count": 36,
   "id": "aeee6d2b",
   "metadata": {
    "execution": {
     "iopub.execute_input": "2024-03-11T18:41:11.079714Z",
     "iopub.status.busy": "2024-03-11T18:41:11.079378Z",
     "iopub.status.idle": "2024-03-11T18:41:11.091062Z",
     "shell.execute_reply": "2024-03-11T18:41:11.090515Z"
    },
    "papermill": {
     "duration": 0.032828,
     "end_time": "2024-03-11T18:41:11.092597",
     "exception": false,
     "start_time": "2024-03-11T18:41:11.059769",
     "status": "completed"
    },
    "tags": []
   },
   "outputs": [],
   "source": [
    "import numpy as np\n",
    "\n",
    "class CustomLinearRegression:\n",
    "    def __init__(self, regularization=None, alpha=1.0):\n",
    "        '''\n",
    "        Initialize the CustomLinearRegression object.\n",
    "\n",
    "        Parameters:\n",
    "        regularization (str or None): Type of regularization. Can be None, 'lasso', or 'ridge'.\n",
    "        alpha (float): Regularization strength parameter.\n",
    "        '''\n",
    "        self.regularization = regularization\n",
    "        self.alpha = alpha\n",
    "        self.weights = None\n",
    "\n",
    "    def fit(self, X, y):\n",
    "        '''\n",
    "        Fit the linear regression model to the training data.\n",
    "\n",
    "        Parameters:\n",
    "        X (array-like): Training input data.\n",
    "        y (array-like): Target values.\n",
    "\n",
    "        Returns:\n",
    "        None\n",
    "        '''\n",
    "        # Add bias term to input data\n",
    "        X = np.insert(X, 0, 1, axis=1)\n",
    "        y = y.reshape((-1, 1))\n",
    "        \n",
    "        if self.regularization is None:\n",
    "            \n",
    "            # Solve for weights without regularization\n",
    "            self.weights = np.matmul(np.matmul(np.linalg.inv(np.matmul(X.T, X)),X.T), y)\n",
    "            \n",
    "        elif self.regularization == \"lasso\":\n",
    "            \n",
    "            # Solve for weights with Lasso regularization\n",
    "            self.weights = self._lasso_regression(X, y)\n",
    "            \n",
    "        elif self.regularization == \"ridge\":\n",
    "            \n",
    "            # Solve for weights with Ridge regularization\n",
    "            self.weights = self._ridge_regression(X, y)\n",
    "            \n",
    "        else:\n",
    "            raise ValueError(\"Invalid regularization type. Please choose None, 'lasso', or 'ridge'.\")\n",
    "\n",
    "    def predict(self, X):\n",
    "        '''\n",
    "        Make predictions using the trained model.\n",
    "\n",
    "        Parameters:\n",
    "        X (array-like): Input data for prediction.\n",
    "\n",
    "        Returns:\n",
    "        array-like: Predicted target values.\n",
    "        '''\n",
    "        if self.weights is None:\n",
    "            raise ValueError(\"Model has not been fitted yet. Please call the fit method first.\")\n",
    "        \n",
    "        return np.matmul(self.weights, X)\n",
    "        pass\n",
    "    \n",
    "    def _lasso_term(self, weights):\n",
    "        '''\n",
    "        Compute the Lasso regularization term.\n",
    "\n",
    "        Parameters:\n",
    "        weights (array-like): Model weights.\n",
    "\n",
    "        Returns:\n",
    "        float: Lasso regularization term.\n",
    "        '''\n",
    "        pass\n",
    "\n",
    "    def _lasso_derivative(self, weights):\n",
    "        '''\n",
    "        Compute the derivative of the Lasso regularization term.\n",
    "\n",
    "        Parameters:\n",
    "        weights (array-like): Model weights.\n",
    "\n",
    "        Returns:\n",
    "        array-like: Derivative of the Lasso regularization term.\n",
    "        '''\n",
    "        # FILL HERE\n",
    "        pass\n",
    "    \n",
    "    def _lasso_regression(self, X, y):\n",
    "        '''\n",
    "        Perform Lasso regression to find model weights.\n",
    "\n",
    "        Parameters:\n",
    "        X (array-like): Input data.\n",
    "        y (array-like): Target values.\n",
    "\n",
    "        Returns:\n",
    "        array-like: Model weights.\n",
    "        '''\n",
    "        X = X - X.mean()\n",
    "        \n",
    "        n,d = X.shape\n",
    "        w = np.random.randn(d, 1)\n",
    "        num_iterations = 500\n",
    "        lr = 0.2\n",
    "        \n",
    "        for it in range(num_iterations):\n",
    "            y_pred = np.dot(X, w)\n",
    "            loss = (1 / (2*n)) * np.sum(np.square(y_pred - y)) + self._lasso_term(w)\n",
    "            dw = (1/n) * np.dot(X.T, (y_pred - y)) + self._lasso_derivative(w)\n",
    "            w = w - lr * dw\n",
    "        return w\n",
    "            \n",
    "    def _ridge_regression(self, X, y):\n",
    "        '''\n",
    "        Perform Ridge regression to find model weights.\n",
    "\n",
    "        Parameters:\n",
    "        X (array-like): Input data.\n",
    "        y (array-like): Target values.\n",
    "\n",
    "        Returns:\n",
    "        array-like: Model weights.\n",
    "        '''\n",
    "        return np.matmul( np.matmul( np.linalg.inv(np.matmul(X.T, X) + np.matmul(np.linalg.eig(X), np.identity(len(X)))) , X.T) , y)\n",
    "        pass"
   ]
  },
  {
   "cell_type": "markdown",
   "id": "30fd389e",
   "metadata": {
    "editable": false,
    "papermill": {
     "duration": 0.018225,
     "end_time": "2024-03-11T18:41:11.129987",
     "exception": false,
     "start_time": "2024-03-11T18:41:11.111762",
     "status": "completed"
    },
    "tags": []
   },
   "source": [
    "### Sec 3: Moddel Fitting (P4-Sec3: 5 points)"
   ]
  },
  {
   "cell_type": "markdown",
   "id": "d9c86bba",
   "metadata": {
    "editable": false,
    "papermill": {
     "duration": 0.018446,
     "end_time": "2024-03-11T18:41:11.167968",
     "exception": false,
     "start_time": "2024-03-11T18:41:11.149522",
     "status": "completed"
    },
    "tags": []
   },
   "source": [
    "Fit 3 linear regressor to the data.\n",
    "- Your implemented linear regression.\n",
    "- Your implemented ridge.\n",
    "- Your implemented lasso.\n",
    "\n",
    "**(P4-3-1: 3 points)**"
   ]
  },
  {
   "cell_type": "code",
   "execution_count": 37,
   "id": "2a350c0f",
   "metadata": {
    "editable": false,
    "execution": {
     "iopub.execute_input": "2024-03-11T18:41:11.206947Z",
     "iopub.status.busy": "2024-03-11T18:41:11.206413Z",
     "iopub.status.idle": "2024-03-11T18:41:11.210393Z",
     "shell.execute_reply": "2024-03-11T18:41:11.209850Z"
    },
    "papermill": {
     "duration": 0.025516,
     "end_time": "2024-03-11T18:41:11.211967",
     "exception": false,
     "start_time": "2024-03-11T18:41:11.186451",
     "status": "completed"
    },
    "tags": []
   },
   "outputs": [],
   "source": [
    "my_regzrs = [\n",
    "    (\"Linear Regression\", CustomLinearRegression()),\n",
    "    (\"Ridge\", CustomLinearRegression(regularization=\"ridge\")),\n",
    "    (\"Lasso\", CustomLinearRegression(regularization=\"lasso\"))\n",
    "]\n",
    "\n",
    "# FILL HERE"
   ]
  },
  {
   "cell_type": "code",
   "execution_count": 38,
   "id": "f654e911",
   "metadata": {
    "execution": {
     "iopub.execute_input": "2024-03-11T18:41:11.251395Z",
     "iopub.status.busy": "2024-03-11T18:41:11.250896Z",
     "iopub.status.idle": "2024-03-11T18:41:11.660398Z",
     "shell.execute_reply": "2024-03-11T18:41:11.659285Z"
    },
    "papermill": {
     "duration": 0.430295,
     "end_time": "2024-03-11T18:41:11.661498",
     "exception": true,
     "start_time": "2024-03-11T18:41:11.231203",
     "status": "failed"
    },
    "tags": []
   },
   "outputs": [
    {
     "ename": "LinAlgError",
     "evalue": "Singular matrix",
     "output_type": "error",
     "traceback": [
      "\u001b[0;31m---------------------------------------------------------------------------\u001b[0m",
      "\u001b[0;31mLinAlgError\u001b[0m                               Traceback (most recent call last)",
      "Cell \u001b[0;32mIn[38], line 7\u001b[0m\n\u001b[1;32m      1\u001b[0m my_regzrs \u001b[38;5;241m=\u001b[39m [\n\u001b[1;32m      2\u001b[0m     (\u001b[38;5;124m\"\u001b[39m\u001b[38;5;124mLinear Regression\u001b[39m\u001b[38;5;124m\"\u001b[39m, CustomLinearRegression()),\n\u001b[1;32m      3\u001b[0m     (\u001b[38;5;124m\"\u001b[39m\u001b[38;5;124mRidge\u001b[39m\u001b[38;5;124m\"\u001b[39m, CustomLinearRegression(regularization\u001b[38;5;241m=\u001b[39m\u001b[38;5;124m\"\u001b[39m\u001b[38;5;124mridge\u001b[39m\u001b[38;5;124m\"\u001b[39m)),\n\u001b[1;32m      4\u001b[0m     (\u001b[38;5;124m\"\u001b[39m\u001b[38;5;124mLasso\u001b[39m\u001b[38;5;124m\"\u001b[39m, CustomLinearRegression(regularization\u001b[38;5;241m=\u001b[39m\u001b[38;5;124m\"\u001b[39m\u001b[38;5;124mlasso\u001b[39m\u001b[38;5;124m\"\u001b[39m))\n\u001b[1;32m      5\u001b[0m ]\n\u001b[1;32m      6\u001b[0m \u001b[38;5;28;01mfor\u001b[39;00m regressor \u001b[38;5;129;01min\u001b[39;00m my_regzrs:\n\u001b[0;32m----> 7\u001b[0m     \u001b[43mregressor\u001b[49m\u001b[43m[\u001b[49m\u001b[38;5;241;43m1\u001b[39;49m\u001b[43m]\u001b[49m\u001b[38;5;241;43m.\u001b[39;49m\u001b[43mfit\u001b[49m\u001b[43m(\u001b[49m\u001b[43mx_train\u001b[49m\u001b[43m,\u001b[49m\u001b[43m \u001b[49m\u001b[43my_train\u001b[49m\u001b[43m)\u001b[49m\n",
      "Cell \u001b[0;32mIn[36], line 34\u001b[0m, in \u001b[0;36mCustomLinearRegression.fit\u001b[0;34m(self, X, y)\u001b[0m\n\u001b[1;32m     29\u001b[0m y \u001b[38;5;241m=\u001b[39m y\u001b[38;5;241m.\u001b[39mreshape((\u001b[38;5;241m-\u001b[39m\u001b[38;5;241m1\u001b[39m, \u001b[38;5;241m1\u001b[39m))\n\u001b[1;32m     31\u001b[0m \u001b[38;5;28;01mif\u001b[39;00m \u001b[38;5;28mself\u001b[39m\u001b[38;5;241m.\u001b[39mregularization \u001b[38;5;129;01mis\u001b[39;00m \u001b[38;5;28;01mNone\u001b[39;00m:\n\u001b[1;32m     32\u001b[0m     \n\u001b[1;32m     33\u001b[0m     \u001b[38;5;66;03m# Solve for weights without regularization\u001b[39;00m\n\u001b[0;32m---> 34\u001b[0m     \u001b[38;5;28mself\u001b[39m\u001b[38;5;241m.\u001b[39mweights \u001b[38;5;241m=\u001b[39m np\u001b[38;5;241m.\u001b[39mmatmul(np\u001b[38;5;241m.\u001b[39mmatmul(\u001b[43mnp\u001b[49m\u001b[38;5;241;43m.\u001b[39;49m\u001b[43mlinalg\u001b[49m\u001b[38;5;241;43m.\u001b[39;49m\u001b[43minv\u001b[49m\u001b[43m(\u001b[49m\u001b[43mnp\u001b[49m\u001b[38;5;241;43m.\u001b[39;49m\u001b[43mmatmul\u001b[49m\u001b[43m(\u001b[49m\u001b[43mX\u001b[49m\u001b[38;5;241;43m.\u001b[39;49m\u001b[43mT\u001b[49m\u001b[43m,\u001b[49m\u001b[43m \u001b[49m\u001b[43mX\u001b[49m\u001b[43m)\u001b[49m\u001b[43m)\u001b[49m,X\u001b[38;5;241m.\u001b[39mT), y)\n\u001b[1;32m     36\u001b[0m \u001b[38;5;28;01melif\u001b[39;00m \u001b[38;5;28mself\u001b[39m\u001b[38;5;241m.\u001b[39mregularization \u001b[38;5;241m==\u001b[39m \u001b[38;5;124m\"\u001b[39m\u001b[38;5;124mlasso\u001b[39m\u001b[38;5;124m\"\u001b[39m:\n\u001b[1;32m     37\u001b[0m     \n\u001b[1;32m     38\u001b[0m     \u001b[38;5;66;03m# Solve for weights with Lasso regularization\u001b[39;00m\n\u001b[1;32m     39\u001b[0m     \u001b[38;5;28mself\u001b[39m\u001b[38;5;241m.\u001b[39mweights \u001b[38;5;241m=\u001b[39m \u001b[38;5;28mself\u001b[39m\u001b[38;5;241m.\u001b[39m_lasso_regression(X, y)\n",
      "File \u001b[0;32m/opt/conda/lib/python3.10/site-packages/numpy/linalg/linalg.py:561\u001b[0m, in \u001b[0;36minv\u001b[0;34m(a)\u001b[0m\n\u001b[1;32m    559\u001b[0m signature \u001b[38;5;241m=\u001b[39m \u001b[38;5;124m'\u001b[39m\u001b[38;5;124mD->D\u001b[39m\u001b[38;5;124m'\u001b[39m \u001b[38;5;28;01mif\u001b[39;00m isComplexType(t) \u001b[38;5;28;01melse\u001b[39;00m \u001b[38;5;124m'\u001b[39m\u001b[38;5;124md->d\u001b[39m\u001b[38;5;124m'\u001b[39m\n\u001b[1;32m    560\u001b[0m extobj \u001b[38;5;241m=\u001b[39m get_linalg_error_extobj(_raise_linalgerror_singular)\n\u001b[0;32m--> 561\u001b[0m ainv \u001b[38;5;241m=\u001b[39m \u001b[43m_umath_linalg\u001b[49m\u001b[38;5;241;43m.\u001b[39;49m\u001b[43minv\u001b[49m\u001b[43m(\u001b[49m\u001b[43ma\u001b[49m\u001b[43m,\u001b[49m\u001b[43m \u001b[49m\u001b[43msignature\u001b[49m\u001b[38;5;241;43m=\u001b[39;49m\u001b[43msignature\u001b[49m\u001b[43m,\u001b[49m\u001b[43m \u001b[49m\u001b[43mextobj\u001b[49m\u001b[38;5;241;43m=\u001b[39;49m\u001b[43mextobj\u001b[49m\u001b[43m)\u001b[49m\n\u001b[1;32m    562\u001b[0m \u001b[38;5;28;01mreturn\u001b[39;00m wrap(ainv\u001b[38;5;241m.\u001b[39mastype(result_t, copy\u001b[38;5;241m=\u001b[39m\u001b[38;5;28;01mFalse\u001b[39;00m))\n",
      "File \u001b[0;32m/opt/conda/lib/python3.10/site-packages/numpy/linalg/linalg.py:112\u001b[0m, in \u001b[0;36m_raise_linalgerror_singular\u001b[0;34m(err, flag)\u001b[0m\n\u001b[1;32m    111\u001b[0m \u001b[38;5;28;01mdef\u001b[39;00m \u001b[38;5;21m_raise_linalgerror_singular\u001b[39m(err, flag):\n\u001b[0;32m--> 112\u001b[0m     \u001b[38;5;28;01mraise\u001b[39;00m LinAlgError(\u001b[38;5;124m\"\u001b[39m\u001b[38;5;124mSingular matrix\u001b[39m\u001b[38;5;124m\"\u001b[39m)\n",
      "\u001b[0;31mLinAlgError\u001b[0m: Singular matrix"
     ]
    }
   ],
   "source": [
    "my_regzrs = [\n",
    "    (\"Linear Regression\", CustomLinearRegression()),\n",
    "    (\"Ridge\", CustomLinearRegression(regularization=\"ridge\")),\n",
    "    (\"Lasso\", CustomLinearRegression(regularization=\"lasso\"))\n",
    "]\n",
    "for regressor in my_regzrs:\n",
    "    regressor[1].fit(x_train, y_train)"
   ]
  },
  {
   "cell_type": "markdown",
   "id": "e732b90e",
   "metadata": {
    "editable": false,
    "papermill": {
     "duration": null,
     "end_time": null,
     "exception": null,
     "start_time": null,
     "status": "pending"
    },
    "tags": []
   },
   "source": [
    "Fit 3 linear regressor to the data.\n",
    "- sklearn linear regression.\n",
    "- sklearn lasso.\n",
    "- sklearn ridge.\n",
    "\n",
    "**(P4-3-2: 2 points)**"
   ]
  },
  {
   "cell_type": "code",
   "execution_count": null,
   "id": "fac9dcd0",
   "metadata": {
    "execution": {
     "iopub.execute_input": "2024-03-11T18:27:16.234022Z",
     "iopub.status.busy": "2024-03-11T18:27:16.233578Z",
     "iopub.status.idle": "2024-03-11T18:27:16.322708Z",
     "shell.execute_reply": "2024-03-11T18:27:16.321306Z",
     "shell.execute_reply.started": "2024-03-11T18:27:16.233988Z"
    },
    "papermill": {
     "duration": null,
     "end_time": null,
     "exception": null,
     "start_time": null,
     "status": "pending"
    },
    "tags": []
   },
   "outputs": [],
   "source": [
    "from sklearn.linear_model import LinearRegression, Lasso, Ridge\n",
    "\n",
    "sk_regzrs = [(\"Linear Regression\", LinearRegression(fit_intercept=False)), (\"Ridge\", Ridge()), (\"Lasso\", Lasso())]\n",
    "\n",
    "for sk_regressor in sk_regzrs:\n",
    "    sk_regressor[1].fit(x_train, y_train)"
   ]
  },
  {
   "cell_type": "markdown",
   "id": "5aa3ff05",
   "metadata": {
    "editable": false,
    "papermill": {
     "duration": null,
     "end_time": null,
     "exception": null,
     "start_time": null,
     "status": "pending"
    },
    "tags": []
   },
   "source": [
    "## Phase 5: Evaluation (P5: 15 points)"
   ]
  },
  {
   "cell_type": "markdown",
   "id": "d125764f",
   "metadata": {
    "editable": false,
    "papermill": {
     "duration": null,
     "end_time": null,
     "exception": null,
     "start_time": null,
     "status": "pending"
    },
    "tags": []
   },
   "source": [
    "### Sec 1: RMSE (P5-Sec1: 10 points)"
   ]
  },
  {
   "cell_type": "markdown",
   "id": "059b6144",
   "metadata": {
    "editable": false,
    "papermill": {
     "duration": null,
     "end_time": null,
     "exception": null,
     "start_time": null,
     "status": "pending"
    },
    "tags": []
   },
   "source": [
    "Calculate the root mean squared error of your three models on the `train` data. **(P5-1-1: 3 points)**"
   ]
  },
  {
   "cell_type": "code",
   "execution_count": null,
   "id": "bb0d2089",
   "metadata": {
    "editable": false,
    "execution": {
     "iopub.execute_input": "2024-02-25T23:50:15.957424Z",
     "iopub.status.busy": "2024-02-25T23:50:15.957035Z",
     "iopub.status.idle": "2024-02-25T23:50:15.965997Z",
     "shell.execute_reply": "2024-02-25T23:50:15.964863Z",
     "shell.execute_reply.started": "2024-02-25T23:50:15.9574Z"
    },
    "papermill": {
     "duration": null,
     "end_time": null,
     "exception": null,
     "start_time": null,
     "status": "pending"
    },
    "tags": []
   },
   "outputs": [],
   "source": [
    "from sklearn.metrics import mean_squared_error\n",
    "\n",
    "# FILL HERE"
   ]
  },
  {
   "cell_type": "markdown",
   "id": "743ac3cd",
   "metadata": {
    "editable": false,
    "papermill": {
     "duration": null,
     "end_time": null,
     "exception": null,
     "start_time": null,
     "status": "pending"
    },
    "tags": []
   },
   "source": [
    "Calculate the root mean squared error of sklearn's three models on the `train` data. **(P5-1-2: 2 points)**"
   ]
  },
  {
   "cell_type": "code",
   "execution_count": null,
   "id": "96a87ed5",
   "metadata": {
    "editable": false,
    "execution": {
     "iopub.execute_input": "2024-02-25T23:50:16.319379Z",
     "iopub.status.busy": "2024-02-25T23:50:16.319037Z",
     "iopub.status.idle": "2024-02-25T23:50:16.33045Z",
     "shell.execute_reply": "2024-02-25T23:50:16.329696Z",
     "shell.execute_reply.started": "2024-02-25T23:50:16.319354Z"
    },
    "papermill": {
     "duration": null,
     "end_time": null,
     "exception": null,
     "start_time": null,
     "status": "pending"
    },
    "tags": []
   },
   "outputs": [],
   "source": [
    "# FILL HERE"
   ]
  },
  {
   "cell_type": "markdown",
   "id": "5716623c",
   "metadata": {
    "editable": false,
    "papermill": {
     "duration": null,
     "end_time": null,
     "exception": null,
     "start_time": null,
     "status": "pending"
    },
    "tags": []
   },
   "source": [
    "Calculate the root mean squared error of your three models on the `test` data. **(P5-1-3: 3 points)**"
   ]
  },
  {
   "cell_type": "code",
   "execution_count": null,
   "id": "768fe7ba",
   "metadata": {
    "editable": false,
    "execution": {
     "iopub.execute_input": "2024-02-25T23:50:17.066246Z",
     "iopub.status.busy": "2024-02-25T23:50:17.065902Z",
     "iopub.status.idle": "2024-02-25T23:50:17.075081Z",
     "shell.execute_reply": "2024-02-25T23:50:17.074158Z",
     "shell.execute_reply.started": "2024-02-25T23:50:17.066219Z"
    },
    "papermill": {
     "duration": null,
     "end_time": null,
     "exception": null,
     "start_time": null,
     "status": "pending"
    },
    "tags": []
   },
   "outputs": [],
   "source": [
    "# FILL HERE"
   ]
  },
  {
   "cell_type": "markdown",
   "id": "a73c8922",
   "metadata": {
    "editable": false,
    "papermill": {
     "duration": null,
     "end_time": null,
     "exception": null,
     "start_time": null,
     "status": "pending"
    },
    "tags": []
   },
   "source": [
    "Calculate the root mean squared error of sklearn's three models on the `test` data. **(P5-1-4: 2 points)**"
   ]
  },
  {
   "cell_type": "code",
   "execution_count": null,
   "id": "f41b87ee",
   "metadata": {
    "editable": false,
    "execution": {
     "iopub.execute_input": "2024-02-25T23:50:17.960619Z",
     "iopub.status.busy": "2024-02-25T23:50:17.960279Z",
     "iopub.status.idle": "2024-02-25T23:50:17.969919Z",
     "shell.execute_reply": "2024-02-25T23:50:17.968951Z",
     "shell.execute_reply.started": "2024-02-25T23:50:17.960594Z"
    },
    "papermill": {
     "duration": null,
     "end_time": null,
     "exception": null,
     "start_time": null,
     "status": "pending"
    },
    "tags": []
   },
   "outputs": [],
   "source": [
    "# FILL HERE"
   ]
  },
  {
   "cell_type": "markdown",
   "id": "97afba31",
   "metadata": {
    "editable": false,
    "papermill": {
     "duration": null,
     "end_time": null,
     "exception": null,
     "start_time": null,
     "status": "pending"
    },
    "tags": []
   },
   "source": [
    "### Sec 2: Lasso (P5-Sec2: 5 points)"
   ]
  },
  {
   "cell_type": "markdown",
   "id": "9a473fa4",
   "metadata": {
    "editable": false,
    "papermill": {
     "duration": null,
     "end_time": null,
     "exception": null,
     "start_time": null,
     "status": "pending"
    },
    "tags": []
   },
   "source": [
    "Get trained weights of scikit-learn's Lasso model. **(P5-2-1: 3 points)**"
   ]
  },
  {
   "cell_type": "code",
   "execution_count": null,
   "id": "b17d3e94",
   "metadata": {
    "editable": false,
    "execution": {
     "iopub.execute_input": "2024-02-25T23:50:19.669329Z",
     "iopub.status.busy": "2024-02-25T23:50:19.668969Z",
     "iopub.status.idle": "2024-02-25T23:50:19.67425Z",
     "shell.execute_reply": "2024-02-25T23:50:19.673157Z",
     "shell.execute_reply.started": "2024-02-25T23:50:19.669299Z"
    },
    "papermill": {
     "duration": null,
     "end_time": null,
     "exception": null,
     "start_time": null,
     "status": "pending"
    },
    "tags": []
   },
   "outputs": [],
   "source": [
    "weights = # FILL HERE"
   ]
  },
  {
   "cell_type": "markdown",
   "id": "2d26471e",
   "metadata": {
    "editable": false,
    "papermill": {
     "duration": null,
     "end_time": null,
     "exception": null,
     "start_time": null,
     "status": "pending"
    },
    "tags": []
   },
   "source": [
    "Sort and print the weights. **(P5-2-2: 2 points)**"
   ]
  },
  {
   "cell_type": "code",
   "execution_count": null,
   "id": "e6996511",
   "metadata": {
    "editable": false,
    "execution": {
     "iopub.execute_input": "2024-02-25T23:50:20.045355Z",
     "iopub.status.busy": "2024-02-25T23:50:20.044971Z",
     "iopub.status.idle": "2024-02-25T23:50:20.052917Z",
     "shell.execute_reply": "2024-02-25T23:50:20.051721Z",
     "shell.execute_reply.started": "2024-02-25T23:50:20.04532Z"
    },
    "papermill": {
     "duration": null,
     "end_time": null,
     "exception": null,
     "start_time": null,
     "status": "pending"
    },
    "tags": []
   },
   "outputs": [],
   "source": [
    "# FILL HERE\n",
    "\n",
    "weights"
   ]
  },
  {
   "cell_type": "code",
   "execution_count": null,
   "id": "c321a77a",
   "metadata": {
    "editable": false,
    "papermill": {
     "duration": null,
     "end_time": null,
     "exception": null,
     "start_time": null,
     "status": "pending"
    },
    "tags": []
   },
   "outputs": [],
   "source": []
  }
 ],
 "metadata": {
  "kaggle": {
   "accelerator": "none",
   "dataSources": [],
   "dockerImageVersionId": 30646,
   "isGpuEnabled": false,
   "isInternetEnabled": true,
   "language": "python",
   "sourceType": "notebook"
  },
  "kernelspec": {
   "display_name": "Python 3",
   "language": "python",
   "name": "python3"
  },
  "language_info": {
   "codemirror_mode": {
    "name": "ipython",
    "version": 3
   },
   "file_extension": ".py",
   "mimetype": "text/x-python",
   "name": "python",
   "nbconvert_exporter": "python",
   "pygments_lexer": "ipython3",
   "version": "3.10.13"
  },
  "papermill": {
   "default_parameters": {},
   "duration": 12.44989,
   "end_time": "2024-03-11T18:41:12.197421",
   "environment_variables": {},
   "exception": true,
   "input_path": "__notebook__.ipynb",
   "output_path": "__notebook__.ipynb",
   "parameters": {},
   "start_time": "2024-03-11T18:40:59.747531",
   "version": "2.5.0"
  }
 },
 "nbformat": 4,
 "nbformat_minor": 5
}
